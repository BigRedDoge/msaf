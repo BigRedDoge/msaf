{
 "cells": [
  {
   "cell_type": "markdown",
   "metadata": {},
   "source": [
    "#Running MSAF#\n",
    "\n",
    "The main MSAF functionality is demonstrated here."
   ]
  },
  {
   "cell_type": "code",
   "execution_count": null,
   "metadata": {
    "collapsed": false
   },
   "outputs": [],
   "source": [
    "from __future__ import print_function\n",
    "import msaf\n",
    "import librosa\n",
    "import seaborn as sns\n",
    "\n",
    "# and IPython.display for audio output\n",
    "import IPython.display\n",
    "\n",
    "# Setup nice plots\n",
    "sns.set(style=\"dark\")\n",
    "%matplotlib inline"
   ]
  },
  {
   "cell_type": "markdown",
   "metadata": {},
   "source": [
    "## Single File Mode ##\n",
    "\n",
    "This mode analyzes one audio file at a time."
   ]
  },
  {
   "cell_type": "code",
   "execution_count": null,
   "metadata": {
    "collapsed": false
   },
   "outputs": [],
   "source": [
    "# Choose an audio file and listen to it\n",
    "audio_file = \"../datasets/Sargon/audio/01-Sargon-Mindless.mp3\"\n",
    "IPython.display.Audio(filename=audio_file)"
   ]
  },
  {
   "cell_type": "code",
   "execution_count": 33,
   "metadata": {
    "collapsed": false
   },
   "outputs": [
    {
     "name": "stdout",
     "output_type": "stream",
     "text": [
      "[   0.            7.89478458   32.78657596   46.02195011   79.18004535\n",
      "   90.65070295  112.70965986  129.42802721  142.94204082  154.41269841\n",
      "  168.06603175  181.02276644  193.00426304  208.09723356  221.37904762\n",
      "  234.15002268  288.48471655  317.04526077  330.00199546  344.90920635\n",
      "  377.04562358  390.46675737  403.56281179  409.089161    414.14530612]\n"
     ]
    }
   ],
   "source": [
    "# Segment the file using the default MSAF parameters\n",
    "boundaries, labels = msaf.process(audio_file)\n",
    "print(boundaries)"
   ]
  },
  {
   "cell_type": "code",
   "execution_count": null,
   "metadata": {
    "collapsed": false
   },
   "outputs": [],
   "source": [
    "# Sonify boundaries\n",
    "sonified_file = \"my_boundaries.wav\"\n",
    "sr = 44100\n",
    "boundaries, labels = msaf.process(audio_file, sonify_bounds=True, \n",
    "                                  out_bounds=sonified_file, out_sr=sr)\n",
    "\n",
    "# Listen to results\n",
    "audio = librosa.load(sonified_file, sr=sr)[0]\n",
    "IPython.display.Audio(audio, rate=sr)"
   ]
  },
  {
   "cell_type": "markdown",
   "metadata": {},
   "source": [
    "### Using different Algorithms ###\n",
    "\n",
    "MSAF includes multiple algorithms both for boundary retrieval and structural grouping (or labeling). In this section we demonstrate how to try them out.\n",
    "\n",
    "Note: more algorithms are available in [msaf-gpl](https://github.com/urinieto/msaf-gpl)."
   ]
  },
  {
   "cell_type": "code",
   "execution_count": 34,
   "metadata": {
    "collapsed": false
   },
   "outputs": [
    {
     "name": "stdout",
     "output_type": "stream",
     "text": [
      "['cnmf', 'foote', 'olda', 'scluster', 'sf']\n"
     ]
    }
   ],
   "source": [
    "# First, let's list all the available boundary algorithms\n",
    "print(msaf.get_all_boundary_algorithms())"
   ]
  },
  {
   "cell_type": "code",
   "execution_count": 35,
   "metadata": {
    "collapsed": false
   },
   "outputs": [
    {
     "data": {
      "image/png": "[encoded data removed]",
      "text/plain": [
       "<matplotlib.figure.Figure at 0x1113e4f28>"
      ]
     },
     "metadata": {},
     "output_type": "display_data"
    }
   ],
   "source": [
    "# Try one of these boundary algorithms and print results\n",
    "boundaries, labels = msaf.process(audio_file, boundaries_id=\"foote\", plot=True)"
   ]
  },
  {
   "cell_type": "code",
   "execution_count": 36,
   "metadata": {
    "collapsed": false
   },
   "outputs": [
    {
     "name": "stdout",
     "output_type": "stream",
     "text": [
      "['cnmf', 'fmc2d', 'scluster']\n"
     ]
    }
   ],
   "source": [
    "# Let's check all the structural grouping (label) algorithms available\n",
    "print(msaf.get_all_label_algorithms())"
   ]
  },
  {
   "cell_type": "code",
   "execution_count": 37,
   "metadata": {
    "collapsed": false
   },
   "outputs": [
    {
     "name": "stdout",
     "output_type": "stream",
     "text": [
      "[   0.           22.01251701   33.20453515   46.48634921   91.06866213\n",
      "  113.12761905  129.84598639  168.43755102  190.58938776  220.49668934\n",
      "  236.51845805  264.01088435  286.85931973  302.64888889  318.6706576\n",
      "  343.51600907  369.94031746  380.43573696  409.089161    414.14530612]\n",
      "[4, 4, 4, 3, 4, 4, 2, 4, 0, 4, 4, 1, 4, 4, 0, 5, 4, 0, 6]\n"
     ]
    }
   ],
   "source": [
    "# Try one of these label algorithms\n",
    "boundaries, labels = msaf.process(audio_file, boundaries_id=\"foote\", labels_id=\"fmc2d\")\n",
    "print(boundaries)\n",
    "print(labels)"
   ]
  },
  {
   "cell_type": "code",
   "execution_count": 38,
   "metadata": {
    "collapsed": false
   },
   "outputs": [
    {
     "data": {
      "image/png": "[encoded data removed]",
      "text/plain": [
       "<matplotlib.figure.Figure at 0x108892160>"
      ]
     },
     "metadata": {},
     "output_type": "display_data"
    }
   ],
   "source": [
    "# If available, you can use previously annotated boundaries and a specific labels algorithm\n",
    "# Set plot = True to plot the results\n",
    "boundaries, labels = msaf.process(audio_file, boundaries_id=\"gt\", \n",
    "                                  labels_id=\"scluster\", plot=True)"
   ]
  },
  {
   "cell_type": "markdown",
   "metadata": {},
   "source": [
    "### Using different Features ###\n",
    "\n",
    "Some algorithms allow the input of different type of features (e.g., harmonic, timbral). In this section we show how we can input different features to MSAF."
   ]
  },
  {
   "cell_type": "code",
   "execution_count": 39,
   "metadata": {
    "collapsed": false
   },
   "outputs": [
    {
     "name": "stdout",
     "output_type": "stream",
     "text": [
      "['hpcp', 'mfcc', 'cqt', 'tonnetz']\n"
     ]
    }
   ],
   "source": [
    "# Let's check what available features are there in MSAF\n",
    "print(msaf.AVAILABLE_FEATS)"
   ]
  },
  {
   "cell_type": "code",
   "execution_count": 40,
   "metadata": {
    "collapsed": false
   },
   "outputs": [
    {
     "data": {
      "image/png": "[encoded data removed]",
      "text/plain": [
       "<matplotlib.figure.Figure at 0x110a4b978>"
      ]
     },
     "metadata": {},
     "output_type": "display_data"
    }
   ],
   "source": [
    "# Segment the file using the Foote method for boundaries, C-NMF method for labels, and MFCC features\n",
    "boundaries, labels = msaf.process(audio_file, feature=\"mfcc\", boundaries_id=\"foote\", \n",
    "                                  labels_id=\"cnmf\", plot=True)"
   ]
  },
  {
   "cell_type": "markdown",
   "metadata": {},
   "source": [
    "### Evaluate Results ###\n",
    "\n",
    "The results can be evaluated as long as there is an existing file containing reference annotations. The results are stored in a pandas DataFrame. MSAF has to run these algorithms (using `msaf.process` described above) before being able to evaluate its results."
   ]
  },
  {
   "cell_type": "code",
   "execution_count": 41,
   "metadata": {
    "collapsed": false
   },
   "outputs": [
    {
     "data": {
      "text/html": [
       "<div>\n",
       "<table border=\"1\" class=\"dataframe\">\n",
       "  <thead>\n",
       "    <tr style=\"text-align: right;\">\n",
       "      <th></th>\n",
       "      <th>D</th>\n",
       "      <th>DevE2R</th>\n",
       "      <th>DevR2E</th>\n",
       "      <th>DevtE2R</th>\n",
       "      <th>DevtR2E</th>\n",
       "      <th>HitRate_0.5F</th>\n",
       "      <th>HitRate_0.5P</th>\n",
       "      <th>HitRate_0.5R</th>\n",
       "      <th>HitRate_3F</th>\n",
       "      <th>HitRate_3P</th>\n",
       "      <th>...</th>\n",
       "      <th>HitRate_t3P</th>\n",
       "      <th>HitRate_t3R</th>\n",
       "      <th>PWF</th>\n",
       "      <th>PWP</th>\n",
       "      <th>PWR</th>\n",
       "      <th>Sf</th>\n",
       "      <th>So</th>\n",
       "      <th>Su</th>\n",
       "      <th>ds_name</th>\n",
       "      <th>track_id</th>\n",
       "    </tr>\n",
       "  </thead>\n",
       "  <tbody>\n",
       "    <tr>\n",
       "      <th>0</th>\n",
       "      <td>0.470375</td>\n",
       "      <td>1.71449</td>\n",
       "      <td>1.896168</td>\n",
       "      <td>2.401961</td>\n",
       "      <td>2.909297</td>\n",
       "      <td>0.325581</td>\n",
       "      <td>0.35</td>\n",
       "      <td>0.304348</td>\n",
       "      <td>0.604651</td>\n",
       "      <td>0.65</td>\n",
       "      <td>...</td>\n",
       "      <td>0.611111</td>\n",
       "      <td>0.52381</td>\n",
       "      <td>0.420751</td>\n",
       "      <td>0.290074</td>\n",
       "      <td>0.76569</td>\n",
       "      <td>0.641772</td>\n",
       "      <td>0.807684</td>\n",
       "      <td>0.532406</td>\n",
       "      <td>01-Sargon-Mindless.jams</td>\n",
       "      <td>01-Sargon-Mindless</td>\n",
       "    </tr>\n",
       "  </tbody>\n",
       "</table>\n",
       "<p>1 rows × 25 columns</p>\n",
       "</div>"
      ],
      "text/plain": [
       "          D   DevE2R    DevR2E   DevtE2R   DevtR2E  HitRate_0.5F  \\\n",
       "0  0.470375  1.71449  1.896168  2.401961  2.909297      0.325581   \n",
       "\n",
       "   HitRate_0.5P  HitRate_0.5R  HitRate_3F  HitRate_3P         ...          \\\n",
       "0          0.35      0.304348    0.604651        0.65         ...           \n",
       "\n",
       "   HitRate_t3P  HitRate_t3R       PWF       PWP      PWR        Sf        So  \\\n",
       "0     0.611111      0.52381  0.420751  0.290074  0.76569  0.641772  0.807684   \n",
       "\n",
       "         Su                  ds_name            track_id  \n",
       "0  0.532406  01-Sargon-Mindless.jams  01-Sargon-Mindless  \n",
       "\n",
       "[1 rows x 25 columns]"
      ]
     },
     "metadata": {},
     "output_type": "display_data"
    }
   ],
   "source": [
    "# Evaluate the results. It returns a pandas data frame.\n",
    "evaluations = msaf.eval.process(audio_file, boundaries_id=\"foote\", labels_id=\"fmc2d\")\n",
    "IPython.display.display(evaluations)"
   ]
  },
  {
   "cell_type": "markdown",
   "metadata": {},
   "source": [
    "### Explore Algorithm Parameters ###\n",
    "\n",
    "Now let's modify the configuration of one of the files, and modify it to see how different the results are.\n",
    "We will use Widgets, which will become handy here."
   ]
  },
  {
   "cell_type": "code",
   "execution_count": 42,
   "metadata": {
    "collapsed": false
   },
   "outputs": [
    {
     "name": "stdout",
     "output_type": "stream",
     "text": [
      "{'L_peaks': 64, 'm_median': 12, 'M_gaussian': 96}\n"
     ]
    }
   ],
   "source": [
    "# First, check which are foote's algorithm parameters:\n",
    "print(msaf.algorithms.foote.config)"
   ]
  },
  {
   "cell_type": "code",
   "execution_count": 43,
   "metadata": {
    "collapsed": false
   },
   "outputs": [
    {
     "data": {
      "image/png": "[encoded data removed]",
      "text/plain": [
       "<matplotlib.figure.Figure at 0x1113e4518>"
      ]
     },
     "metadata": {},
     "output_type": "display_data"
    },
    {
     "data": {
      "text/html": [
       "<div>\n",
       "<table border=\"1\" class=\"dataframe\">\n",
       "  <thead>\n",
       "    <tr style=\"text-align: right;\">\n",
       "      <th></th>\n",
       "      <th>D</th>\n",
       "      <th>DevE2R</th>\n",
       "      <th>DevR2E</th>\n",
       "      <th>DevtE2R</th>\n",
       "      <th>DevtR2E</th>\n",
       "      <th>HitRate_0.5F</th>\n",
       "      <th>HitRate_0.5P</th>\n",
       "      <th>HitRate_0.5R</th>\n",
       "      <th>HitRate_3F</th>\n",
       "      <th>HitRate_3P</th>\n",
       "      <th>HitRate_3R</th>\n",
       "      <th>HitRate_t0.5F</th>\n",
       "      <th>HitRate_t0.5P</th>\n",
       "      <th>HitRate_t0.5R</th>\n",
       "      <th>HitRate_t3F</th>\n",
       "      <th>HitRate_t3P</th>\n",
       "      <th>HitRate_t3R</th>\n",
       "      <th>ds_name</th>\n",
       "      <th>track_id</th>\n",
       "    </tr>\n",
       "  </thead>\n",
       "  <tbody>\n",
       "    <tr>\n",
       "      <th>0</th>\n",
       "      <td>0.495857</td>\n",
       "      <td>1.114853</td>\n",
       "      <td>1.266984</td>\n",
       "      <td>1.266984</td>\n",
       "      <td>1.739093</td>\n",
       "      <td>0.380952</td>\n",
       "      <td>0.421053</td>\n",
       "      <td>0.347826</td>\n",
       "      <td>0.761905</td>\n",
       "      <td>0.842105</td>\n",
       "      <td>0.695652</td>\n",
       "      <td>0.315789</td>\n",
       "      <td>0.352941</td>\n",
       "      <td>0.285714</td>\n",
       "      <td>0.736842</td>\n",
       "      <td>0.823529</td>\n",
       "      <td>0.666667</td>\n",
       "      <td>01-Sargon-Mindless.jams</td>\n",
       "      <td>01-Sargon-Mindless</td>\n",
       "    </tr>\n",
       "  </tbody>\n",
       "</table>\n",
       "</div>"
      ],
      "text/plain": [
       "          D    DevE2R    DevR2E   DevtE2R   DevtR2E  HitRate_0.5F  \\\n",
       "0  0.495857  1.114853  1.266984  1.266984  1.739093      0.380952   \n",
       "\n",
       "   HitRate_0.5P  HitRate_0.5R  HitRate_3F  HitRate_3P  HitRate_3R  \\\n",
       "0      0.421053      0.347826    0.761905    0.842105    0.695652   \n",
       "\n",
       "   HitRate_t0.5F  HitRate_t0.5P  HitRate_t0.5R  HitRate_t3F  HitRate_t3P  \\\n",
       "0       0.315789       0.352941       0.285714     0.736842     0.823529   \n",
       "\n",
       "   HitRate_t3R                  ds_name            track_id  \n",
       "0     0.666667  01-Sargon-Mindless.jams  01-Sargon-Mindless  "
      ]
     },
     "metadata": {},
     "output_type": "display_data"
    }
   ],
   "source": [
    "# play around with IPython.Widgets\n",
    "from IPython.html.widgets import interact\n",
    "\n",
    "# Obtain the default configuration\n",
    "bid = \"foote\"  # Boundaries ID\n",
    "lid = None     # Labels ID\n",
    "feature = \"hpcp\"\n",
    "config = msaf.io.get_configuration(feature, annot_beats=False, framesync=False, \n",
    "                                   boundaries_id=bid, labels_id=lid)\n",
    "\n",
    "# Sweep M_gaussian parameters\n",
    "@interact(M_gaussian=(50, 500, 25))\n",
    "def _run_msaf(M_gaussian):\n",
    "    # Set the configuration\n",
    "    config[\"M_gaussian\"] = M_gaussian\n",
    "    \n",
    "    # Segment the file using the Foote method, and Pitch Class Profiles for the features\n",
    "    results = msaf.process(audio_file, feature=feature, boundaries_id=bid, \n",
    "                           config=config, plot=True)\n",
    "\n",
    "    # Evaluate the results. It returns a pandas data frame.\n",
    "    evaluations = msaf.eval.process(audio_file, feature=feature, boundaries_id=bid,\n",
    "                                    config=config)\n",
    "    IPython.display.display(evaluations)"
   ]
  },
  {
   "cell_type": "markdown",
   "metadata": {
    "collapsed": true
   },
   "source": [
    "## Collection Mode ##\n",
    "\n",
    "MSAF is able to run and evaluate mutliple files using multi-threading. In this section we show this functionality."
   ]
  },
  {
   "cell_type": "code",
   "execution_count": 44,
   "metadata": {
    "collapsed": false
   },
   "outputs": [],
   "source": [
    "dataset = \"../datasets/Sargon/\"\n",
    "results = msaf.process(dataset, n_jobs=4, boundaries_id=\"foote\")"
   ]
  },
  {
   "cell_type": "code",
   "execution_count": 45,
   "metadata": {
    "collapsed": false
   },
   "outputs": [
    {
     "data": {
      "text/html": [
       "<div>\n",
       "<table border=\"1\" class=\"dataframe\">\n",
       "  <thead>\n",
       "    <tr style=\"text-align: right;\">\n",
       "      <th></th>\n",
       "      <th>D</th>\n",
       "      <th>DevE2R</th>\n",
       "      <th>DevR2E</th>\n",
       "      <th>DevtE2R</th>\n",
       "      <th>DevtR2E</th>\n",
       "      <th>HitRate_0.5F</th>\n",
       "      <th>HitRate_0.5P</th>\n",
       "      <th>HitRate_0.5R</th>\n",
       "      <th>HitRate_3F</th>\n",
       "      <th>HitRate_3P</th>\n",
       "      <th>HitRate_3R</th>\n",
       "      <th>HitRate_t0.5F</th>\n",
       "      <th>HitRate_t0.5P</th>\n",
       "      <th>HitRate_t0.5R</th>\n",
       "      <th>HitRate_t3F</th>\n",
       "      <th>HitRate_t3P</th>\n",
       "      <th>HitRate_t3R</th>\n",
       "      <th>ds_name</th>\n",
       "      <th>track_id</th>\n",
       "    </tr>\n",
       "  </thead>\n",
       "  <tbody>\n",
       "    <tr>\n",
       "      <th>0</th>\n",
       "      <td>0.470375</td>\n",
       "      <td>1.714490</td>\n",
       "      <td>1.896168</td>\n",
       "      <td>2.401961</td>\n",
       "      <td>2.909297</td>\n",
       "      <td>0.325581</td>\n",
       "      <td>0.35000</td>\n",
       "      <td>0.304348</td>\n",
       "      <td>0.604651</td>\n",
       "      <td>0.650000</td>\n",
       "      <td>0.565217</td>\n",
       "      <td>0.256410</td>\n",
       "      <td>0.277778</td>\n",
       "      <td>0.238095</td>\n",
       "      <td>0.564103</td>\n",
       "      <td>0.611111</td>\n",
       "      <td>0.523810</td>\n",
       "      <td>01-Sargon-Mindless.jams</td>\n",
       "      <td>01-Sargon-Mindless</td>\n",
       "    </tr>\n",
       "    <tr>\n",
       "      <th>1</th>\n",
       "      <td>0.437517</td>\n",
       "      <td>1.313379</td>\n",
       "      <td>1.618277</td>\n",
       "      <td>1.535261</td>\n",
       "      <td>1.724082</td>\n",
       "      <td>0.222222</td>\n",
       "      <td>0.25000</td>\n",
       "      <td>0.200000</td>\n",
       "      <td>0.800000</td>\n",
       "      <td>0.900000</td>\n",
       "      <td>0.720000</td>\n",
       "      <td>0.146341</td>\n",
       "      <td>0.166667</td>\n",
       "      <td>0.130435</td>\n",
       "      <td>0.780488</td>\n",
       "      <td>0.888889</td>\n",
       "      <td>0.695652</td>\n",
       "      <td>02-Sargon-Shattered World.jams</td>\n",
       "      <td>02-Sargon-Shattered World</td>\n",
       "    </tr>\n",
       "    <tr>\n",
       "      <th>2</th>\n",
       "      <td>0.448502</td>\n",
       "      <td>0.504501</td>\n",
       "      <td>12.046519</td>\n",
       "      <td>0.868719</td>\n",
       "      <td>12.243039</td>\n",
       "      <td>0.263158</td>\n",
       "      <td>0.50000</td>\n",
       "      <td>0.178571</td>\n",
       "      <td>0.473684</td>\n",
       "      <td>0.900000</td>\n",
       "      <td>0.321429</td>\n",
       "      <td>0.176471</td>\n",
       "      <td>0.375000</td>\n",
       "      <td>0.115385</td>\n",
       "      <td>0.411765</td>\n",
       "      <td>0.875000</td>\n",
       "      <td>0.269231</td>\n",
       "      <td>03-Sargon-Waiting For Silence.jams</td>\n",
       "      <td>03-Sargon-Waiting For Silence</td>\n",
       "    </tr>\n",
       "    <tr>\n",
       "      <th>3</th>\n",
       "      <td>0.318680</td>\n",
       "      <td>1.046576</td>\n",
       "      <td>1.175283</td>\n",
       "      <td>1.064331</td>\n",
       "      <td>1.271236</td>\n",
       "      <td>0.256881</td>\n",
       "      <td>0.27451</td>\n",
       "      <td>0.241379</td>\n",
       "      <td>0.660550</td>\n",
       "      <td>0.705882</td>\n",
       "      <td>0.620690</td>\n",
       "      <td>0.228571</td>\n",
       "      <td>0.244898</td>\n",
       "      <td>0.214286</td>\n",
       "      <td>0.647619</td>\n",
       "      <td>0.693878</td>\n",
       "      <td>0.607143</td>\n",
       "      <td>04-Sargon-The Curse Of Akkad.jams</td>\n",
       "      <td>04-Sargon-The Curse Of Akkad</td>\n",
       "    </tr>\n",
       "  </tbody>\n",
       "</table>\n",
       "</div>"
      ],
      "text/plain": [
       "          D    DevE2R     DevR2E   DevtE2R    DevtR2E  HitRate_0.5F  \\\n",
       "0  0.470375  1.714490   1.896168  2.401961   2.909297      0.325581   \n",
       "1  0.437517  1.313379   1.618277  1.535261   1.724082      0.222222   \n",
       "2  0.448502  0.504501  12.046519  0.868719  12.243039      0.263158   \n",
       "3  0.318680  1.046576   1.175283  1.064331   1.271236      0.256881   \n",
       "\n",
       "   HitRate_0.5P  HitRate_0.5R  HitRate_3F  HitRate_3P  HitRate_3R  \\\n",
       "0       0.35000      0.304348    0.604651    0.650000    0.565217   \n",
       "1       0.25000      0.200000    0.800000    0.900000    0.720000   \n",
       "2       0.50000      0.178571    0.473684    0.900000    0.321429   \n",
       "3       0.27451      0.241379    0.660550    0.705882    0.620690   \n",
       "\n",
       "   HitRate_t0.5F  HitRate_t0.5P  HitRate_t0.5R  HitRate_t3F  HitRate_t3P  \\\n",
       "0       0.256410       0.277778       0.238095     0.564103     0.611111   \n",
       "1       0.146341       0.166667       0.130435     0.780488     0.888889   \n",
       "2       0.176471       0.375000       0.115385     0.411765     0.875000   \n",
       "3       0.228571       0.244898       0.214286     0.647619     0.693878   \n",
       "\n",
       "   HitRate_t3R                             ds_name  \\\n",
       "0     0.523810             01-Sargon-Mindless.jams   \n",
       "1     0.695652      02-Sargon-Shattered World.jams   \n",
       "2     0.269231  03-Sargon-Waiting For Silence.jams   \n",
       "3     0.607143   04-Sargon-The Curse Of Akkad.jams   \n",
       "\n",
       "                        track_id  \n",
       "0             01-Sargon-Mindless  \n",
       "1      02-Sargon-Shattered World  \n",
       "2  03-Sargon-Waiting For Silence  \n",
       "3   04-Sargon-The Curse Of Akkad  "
      ]
     },
     "metadata": {},
     "output_type": "display_data"
    }
   ],
   "source": [
    "# Evaluate in collection mode\n",
    "evaluations = msaf.eval.process(dataset, n_jobs=4, boundaries_id=\"foote\")\n",
    "IPython.display.display(evaluations)"
   ]
  }
 ],
 "metadata": {
  "kernelspec": {
   "display_name": "Python 3",
   "language": "python",
   "name": "python3"
  },
  "language_info": {
   "codemirror_mode": {
    "name": "ipython",
    "version": 3
   },
   "file_extension": ".py",
   "mimetype": "text/x-python",
   "name": "python",
   "nbconvert_exporter": "python",
   "pygments_lexer": "ipython3",
   "version": "3.4.3"
  }
 },
 "nbformat": 4,
 "nbformat_minor": 0
}
