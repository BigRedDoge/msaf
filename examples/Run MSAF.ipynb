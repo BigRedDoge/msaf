{
 "metadata": {
  "name": "",
  "signature": "sha256:f7a5e4f79e67a105ea2cc5a0ec3d0189e76864a440f96f24f9d66ab1415e32aa"
 },
 "nbformat": 3,
 "nbformat_minor": 0,
 "worksheets": [
  {
   "cells": [
    {
     "cell_type": "markdown",
     "metadata": {},
     "source": [
      "#Running MSAF#\n",
      "\n",
      "We show the main MSAF functionality here, by running it on various toy examples and situations."
     ]
    },
    {
     "cell_type": "code",
     "collapsed": false,
     "input": [
      "%matplotlib inline\n",
      "\n",
      "import msaf"
     ],
     "language": "python",
     "metadata": {},
     "outputs": [
      {
       "output_type": "stream",
       "stream": "stderr",
       "text": [
        "WARNING:root:You must compile the Constrained Clustering method (cc) before you can use it. To do so, go to msaf/algorithms/cc and type:\n",
        "\tpython setup.py build_ext --inplace\n"
       ]
      }
     ],
     "prompt_number": 1
    },
    {
     "cell_type": "code",
     "collapsed": false,
     "input": [],
     "language": "python",
     "metadata": {},
     "outputs": []
    }
   ],
   "metadata": {}
  }
 ]
}