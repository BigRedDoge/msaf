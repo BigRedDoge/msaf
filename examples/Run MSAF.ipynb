{
 "cells": [
  {
   "cell_type": "markdown",
   "metadata": {},
   "source": [
    "# Running MSAF #\n",
    "\n",
    "The main MSAF functionality is demonstrated here."
   ]
  },
  {
   "cell_type": "code",
   "execution_count": 1,
   "metadata": {
    "collapsed": false
   },
   "outputs": [],
   "source": [
    "from __future__ import print_function\n",
    "import msaf\n",
    "import librosa\n",
    "import seaborn as sns\n",
    "\n",
    "# and IPython.display for audio output\n",
    "import IPython.display\n",
    "\n",
    "# Setup nice plots\n",
    "sns.set(style=\"dark\")\n",
    "%matplotlib inline"
   ]
  },
  {
   "cell_type": "markdown",
   "metadata": {},
   "source": [
    "## Single File Mode ##\n",
    "\n",
    "This mode analyzes one audio file at a time."
   ]
  },
  {
   "cell_type": "code",
   "execution_count": null,
   "metadata": {
    "collapsed": false
   },
   "outputs": [],
   "source": [
    "# Choose an audio file and listen to it\n",
    "audio_file = \"../datasets/Sargon/audio/01-Sargon-Mindless.mp3\"\n",
    "IPython.display.Audio(filename=audio_file)"
   ]
  },
  {
   "cell_type": "code",
   "execution_count": 27,
   "metadata": {
    "collapsed": false
   },
   "outputs": [
    {
     "name": "stdout",
     "output_type": "stream",
     "text": [
      "[   0.            0.41795918   15.78956916   32.74013605   46.85786848\n",
      "   62.4152381    73.23573696  103.51455782  116.19265306  128.63854875\n",
      "  140.29496599  166.39419501  222.16852608  236.47201814  264.38240363\n",
      "  288.02031746  319.87809524  344.72344671  409.87863946  414.14530612]\n"
     ]
    }
   ],
   "source": [
    "# Segment the file using the default MSAF parameters\n",
    "boundaries, labels = msaf.process(audio_file)\n",
    "print(boundaries)"
   ]
  },
  {
   "cell_type": "code",
   "execution_count": null,
   "metadata": {
    "collapsed": false
   },
   "outputs": [],
   "source": [
    "# Sonify boundaries\n",
    "sonified_file = \"my_boundaries.wav\"\n",
    "sr = 44100\n",
    "boundaries, labels = msaf.process(audio_file, sonify_bounds=True, \n",
    "                                  out_bounds=sonified_file, out_sr=sr)\n",
    "\n",
    "# Listen to results\n",
    "audio = librosa.load(sonified_file, sr=sr)[0]\n",
    "IPython.display.Audio(audio, rate=sr)"
   ]
  },
  {
   "cell_type": "markdown",
   "metadata": {},
   "source": [
    "### Using different Algorithms ###\n",
    "\n",
    "MSAF includes multiple algorithms both for boundary retrieval and structural grouping (or labeling). In this section we demonstrate how to try them out.\n",
    "\n",
    "Note: more algorithms are available in [msaf-gpl](https://github.com/urinieto/msaf-gpl)."
   ]
  },
  {
   "cell_type": "code",
   "execution_count": 5,
   "metadata": {
    "collapsed": false
   },
   "outputs": [
    {
     "name": "stdout",
     "output_type": "stream",
     "text": [
      "['cnmf', 'example', 'foote', 'olda', 'scluster', 'sf']\n"
     ]
    }
   ],
   "source": [
    "# First, let's list all the available boundary algorithms\n",
    "print(msaf.get_all_boundary_algorithms())"
   ]
  },
  {
   "cell_type": "code",
   "execution_count": 29,
   "metadata": {
    "collapsed": false
   },
   "outputs": [
    {
     "data": {
      "image/png": "[encoded data removed]",
      "text/plain": [
       "<matplotlib.figure.Figure at 0x11a88e5d0>"
      ]
     },
     "metadata": {},
     "output_type": "display_data"
    }
   ],
   "source": [
    "# Try one of these boundary algorithms and print results\n",
    "boundaries, labels = msaf.process(audio_file, boundaries_id=\"foote\", plot=True)"
   ]
  },
  {
   "cell_type": "code",
   "execution_count": 6,
   "metadata": {
    "collapsed": false
   },
   "outputs": [
    {
     "name": "stdout",
     "output_type": "stream",
     "text": [
      "['cnmf', 'fmc2d', 'scluster']\n"
     ]
    }
   ],
   "source": [
    "# Let's check all the structural grouping (label) algorithms available\n",
    "print(msaf.get_all_label_algorithms())"
   ]
  },
  {
   "cell_type": "code",
   "execution_count": 7,
   "metadata": {
    "collapsed": false
   },
   "outputs": [
    {
     "name": "stdout",
     "output_type": "stream",
     "text": [
      "[   0.            0.41795918   16.20752834   33.15809524   46.85786848\n",
      "   60.37188209   84.56707483   92.27609977  115.26385488  127.80263039\n",
      "  162.63256236  168.39111111  188.08163265  201.13124717  220.91464853\n",
      "  261.45668934  287.64879819  302.27736961  324.7078458   343.88752834\n",
      "  370.6369161   380.76081633  394.87854875  409.87863946  414.14530612]\n",
      "[6, 5, 3, 5, 3, 3, 3, 5, 1, 5, 3, 2, 3, 5, 4, 5, 0, 2, 2, 5, 3, 3, 5, 6]\n"
     ]
    }
   ],
   "source": [
    "# Try one of these label algorithms\n",
    "boundaries, labels = msaf.process(audio_file, boundaries_id=\"foote\", labels_id=\"fmc2d\")\n",
    "print(boundaries)\n",
    "print(labels)"
   ]
  },
  {
   "cell_type": "code",
   "execution_count": 30,
   "metadata": {
    "collapsed": false
   },
   "outputs": [
    {
     "data": {
      "image/png": "[encoded data removed]",
      "text/plain": [
       "<matplotlib.figure.Figure at 0x11a587690>"
      ]
     },
     "metadata": {},
     "output_type": "display_data"
    }
   ],
   "source": [
    "# If available, you can use previously annotated boundaries and a specific labels algorithm\n",
    "# Set plot = True to plot the results\n",
    "boundaries, labels = msaf.process(audio_file, boundaries_id=\"foote\", \n",
    "                                  labels_id=\"fmc2d\", plot=True, feature=\"mfcc\")"
   ]
  },
  {
   "cell_type": "markdown",
   "metadata": {},
   "source": [
    "### Using different Features ###\n",
    "\n",
    "Some algorithms allow the input of different type of features (e.g., harmonic, timbral). In this section we show how we can input different features to MSAF."
   ]
  },
  {
   "cell_type": "code",
   "execution_count": 2,
   "metadata": {
    "collapsed": false
   },
   "outputs": [
    {
     "name": "stdout",
     "output_type": "stream",
     "text": [
      "['pcp', 'mfcc', 'cqt', 'tonnetz']\n"
     ]
    }
   ],
   "source": [
    "# Let's check what available features are there in MSAF\n",
    "print(msaf.AVAILABLE_FEATS)"
   ]
  },
  {
   "cell_type": "code",
   "execution_count": 32,
   "metadata": {
    "collapsed": false
   },
   "outputs": [
    {
     "data": {
      "image/png": "[encoded data removed]",
      "text/plain": [
       "<matplotlib.figure.Figure at 0x11ba6de10>"
      ]
     },
     "metadata": {},
     "output_type": "display_data"
    }
   ],
   "source": [
    "# Segment the file using the Foote method for boundaries, C-NMF method for labels, and MFCC features\n",
    "boundaries, labels = msaf.process(audio_file, feature=\"mfcc\", boundaries_id=\"gt\", \n",
    "                                  labels_id=\"fmc2d\", plot=True)"
   ]
  },
  {
   "cell_type": "markdown",
   "metadata": {},
   "source": [
    "### Evaluate Results ###\n",
    "\n",
    "The results can be evaluated as long as there is an existing file containing reference annotations. The results are stored in a pandas DataFrame. MSAF has to run these algorithms (using `msaf.process` described above) before being able to evaluate its results."
   ]
  },
  {
   "cell_type": "code",
   "execution_count": 33,
   "metadata": {
    "collapsed": false
   },
   "outputs": [
    {
     "data": {
      "text/html": [
       "<div>\n",
       "<table border=\"1\" class=\"dataframe\">\n",
       "  <thead>\n",
       "    <tr style=\"text-align: right;\">\n",
       "      <th></th>\n",
       "      <th>D</th>\n",
       "      <th>DevE2R</th>\n",
       "      <th>DevR2E</th>\n",
       "      <th>DevtE2R</th>\n",
       "      <th>DevtR2E</th>\n",
       "      <th>HitRate_0.5F</th>\n",
       "      <th>HitRate_0.5P</th>\n",
       "      <th>HitRate_0.5R</th>\n",
       "      <th>HitRate_3F</th>\n",
       "      <th>HitRate_3P</th>\n",
       "      <th>...</th>\n",
       "      <th>HitRate_t3P</th>\n",
       "      <th>HitRate_t3R</th>\n",
       "      <th>PWF</th>\n",
       "      <th>PWP</th>\n",
       "      <th>PWR</th>\n",
       "      <th>Sf</th>\n",
       "      <th>So</th>\n",
       "      <th>Su</th>\n",
       "      <th>ds_name</th>\n",
       "      <th>track_id</th>\n",
       "    </tr>\n",
       "  </thead>\n",
       "  <tbody>\n",
       "    <tr>\n",
       "      <th>0</th>\n",
       "      <td>0.441305</td>\n",
       "      <td>2.11982</td>\n",
       "      <td>2.113595</td>\n",
       "      <td>3.03014</td>\n",
       "      <td>2.57498</td>\n",
       "      <td>0.326531</td>\n",
       "      <td>0.32</td>\n",
       "      <td>0.333333</td>\n",
       "      <td>0.530612</td>\n",
       "      <td>0.52</td>\n",
       "      <td>...</td>\n",
       "      <td>0.478261</td>\n",
       "      <td>0.5</td>\n",
       "      <td>0.243714</td>\n",
       "      <td>0.169481</td>\n",
       "      <td>0.433661</td>\n",
       "      <td>0.433443</td>\n",
       "      <td>0.578471</td>\n",
       "      <td>0.346558</td>\n",
       "      <td>01-Sargon-Mindless.jams</td>\n",
       "      <td>01-Sargon-Mindless</td>\n",
       "    </tr>\n",
       "  </tbody>\n",
       "</table>\n",
       "<p>1 rows × 25 columns</p>\n",
       "</div>"
      ],
      "text/plain": [
       "          D   DevE2R    DevR2E  DevtE2R  DevtR2E  HitRate_0.5F  HitRate_0.5P  \\\n",
       "0  0.441305  2.11982  2.113595  3.03014  2.57498      0.326531          0.32   \n",
       "\n",
       "   HitRate_0.5R  HitRate_3F  HitRate_3P         ...          HitRate_t3P  \\\n",
       "0      0.333333    0.530612        0.52         ...             0.478261   \n",
       "\n",
       "   HitRate_t3R       PWF       PWP       PWR        Sf        So        Su  \\\n",
       "0          0.5  0.243714  0.169481  0.433661  0.433443  0.578471  0.346558   \n",
       "\n",
       "                   ds_name            track_id  \n",
       "0  01-Sargon-Mindless.jams  01-Sargon-Mindless  \n",
       "\n",
       "[1 rows x 25 columns]"
      ]
     },
     "metadata": {},
     "output_type": "display_data"
    }
   ],
   "source": [
    "# Evaluate the results. It returns a pandas data frame.\n",
    "evaluations = msaf.eval.process(audio_file, boundaries_id=\"foote\", labels_id=\"fmc2d\")\n",
    "IPython.display.display(evaluations)"
   ]
  },
  {
   "cell_type": "markdown",
   "metadata": {},
   "source": [
    "### Explore Algorithm Parameters ###\n",
    "\n",
    "Now let's modify the configuration of one of the files, and modify it to see how different the results are.\n",
    "We will use Widgets, which will become handy here."
   ]
  },
  {
   "cell_type": "code",
   "execution_count": 12,
   "metadata": {
    "collapsed": false
   },
   "outputs": [
    {
     "name": "stdout",
     "output_type": "stream",
     "text": [
      "{'m_median': 12, 'L_peaks': 64, 'M_gaussian': 66}\n"
     ]
    }
   ],
   "source": [
    "# First, check which are foote's algorithm parameters:\n",
    "print(msaf.algorithms.foote.config)"
   ]
  },
  {
   "cell_type": "code",
   "execution_count": 20,
   "metadata": {
    "collapsed": false
   },
   "outputs": [
    {
     "data": {
      "image/png": "[encoded data removed]",
      "text/plain": [
       "<matplotlib.figure.Figure at 0x11ba14d50>"
      ]
     },
     "metadata": {},
     "output_type": "display_data"
    },
    {
     "data": {
      "text/html": [
       "<div>\n",
       "<table border=\"1\" class=\"dataframe\">\n",
       "  <thead>\n",
       "    <tr style=\"text-align: right;\">\n",
       "      <th></th>\n",
       "      <th>D</th>\n",
       "      <th>DevE2R</th>\n",
       "      <th>DevR2E</th>\n",
       "      <th>DevtE2R</th>\n",
       "      <th>DevtR2E</th>\n",
       "      <th>HitRate_0.5F</th>\n",
       "      <th>HitRate_0.5P</th>\n",
       "      <th>HitRate_0.5R</th>\n",
       "      <th>HitRate_3F</th>\n",
       "      <th>HitRate_3P</th>\n",
       "      <th>HitRate_3R</th>\n",
       "      <th>HitRate_t0.5F</th>\n",
       "      <th>HitRate_t0.5P</th>\n",
       "      <th>HitRate_t0.5R</th>\n",
       "      <th>HitRate_t3F</th>\n",
       "      <th>HitRate_t3P</th>\n",
       "      <th>HitRate_t3R</th>\n",
       "      <th>ds_name</th>\n",
       "      <th>track_id</th>\n",
       "    </tr>\n",
       "  </thead>\n",
       "  <tbody>\n",
       "    <tr>\n",
       "      <th>0</th>\n",
       "      <td>0.432536</td>\n",
       "      <td>2.11982</td>\n",
       "      <td>6.53028</td>\n",
       "      <td>5.55197</td>\n",
       "      <td>6.855465</td>\n",
       "      <td>0.205128</td>\n",
       "      <td>0.266667</td>\n",
       "      <td>0.166667</td>\n",
       "      <td>0.410256</td>\n",
       "      <td>0.533333</td>\n",
       "      <td>0.333333</td>\n",
       "      <td>0.114286</td>\n",
       "      <td>0.153846</td>\n",
       "      <td>0.090909</td>\n",
       "      <td>0.342857</td>\n",
       "      <td>0.461538</td>\n",
       "      <td>0.272727</td>\n",
       "      <td>01-Sargon-Mindless.jams</td>\n",
       "      <td>01-Sargon-Mindless</td>\n",
       "    </tr>\n",
       "  </tbody>\n",
       "</table>\n",
       "</div>"
      ],
      "text/plain": [
       "          D   DevE2R   DevR2E  DevtE2R   DevtR2E  HitRate_0.5F  HitRate_0.5P  \\\n",
       "0  0.432536  2.11982  6.53028  5.55197  6.855465      0.205128      0.266667   \n",
       "\n",
       "   HitRate_0.5R  HitRate_3F  HitRate_3P  HitRate_3R  HitRate_t0.5F  \\\n",
       "0      0.166667    0.410256    0.533333    0.333333       0.114286   \n",
       "\n",
       "   HitRate_t0.5P  HitRate_t0.5R  HitRate_t3F  HitRate_t3P  HitRate_t3R  \\\n",
       "0       0.153846       0.090909     0.342857     0.461538     0.272727   \n",
       "\n",
       "                   ds_name            track_id  \n",
       "0  01-Sargon-Mindless.jams  01-Sargon-Mindless  "
      ]
     },
     "metadata": {},
     "output_type": "display_data"
    }
   ],
   "source": [
    "# play around with IPython.Widgets\n",
    "from ipywidgets import interact\n",
    "\n",
    "# Obtain the default configuration\n",
    "bid = \"foote\"  # Boundaries ID\n",
    "lid = None     # Labels ID\n",
    "feature = \"pcp\"\n",
    "config = msaf.io.get_configuration(feature, annot_beats=False, framesync=False, \n",
    "                                   boundaries_id=bid, labels_id=lid)\n",
    "\n",
    "# Sweep M_gaussian parameters\n",
    "@interact(M_gaussian=(50, 500, 25))\n",
    "def _run_msaf(M_gaussian):\n",
    "    # Set the configuration\n",
    "    config[\"M_gaussian\"] = M_gaussian\n",
    "    \n",
    "    # Segment the file using the Foote method, and Pitch Class Profiles for the features\n",
    "    results = msaf.process(audio_file, feature=feature, boundaries_id=bid, \n",
    "                           config=config, plot=True)\n",
    "\n",
    "    # Evaluate the results. It returns a pandas data frame.\n",
    "    evaluations = msaf.eval.process(audio_file, feature=feature, boundaries_id=bid,\n",
    "                                    config=config)\n",
    "    IPython.display.display(evaluations)"
   ]
  },
  {
   "cell_type": "markdown",
   "metadata": {
    "collapsed": true
   },
   "source": [
    "## Collection Mode ##\n",
    "\n",
    "MSAF is able to run and evaluate mutliple files using multi-threading. In this section we show this functionality."
   ]
  },
  {
   "cell_type": "code",
   "execution_count": 34,
   "metadata": {
    "collapsed": false
   },
   "outputs": [],
   "source": [
    "dataset = \"../datasets/Sargon/\"\n",
    "reload(msaf.input_output)\n",
    "results = msaf.process(dataset, n_jobs=4, boundaries_id=\"foote\")"
   ]
  },
  {
   "cell_type": "code",
   "execution_count": 35,
   "metadata": {
    "collapsed": false
   },
   "outputs": [
    {
     "data": {
      "text/html": [
       "<div>\n",
       "<table border=\"1\" class=\"dataframe\">\n",
       "  <thead>\n",
       "    <tr style=\"text-align: right;\">\n",
       "      <th></th>\n",
       "      <th>D</th>\n",
       "      <th>DevE2R</th>\n",
       "      <th>DevR2E</th>\n",
       "      <th>DevtE2R</th>\n",
       "      <th>DevtR2E</th>\n",
       "      <th>HitRate_0.5F</th>\n",
       "      <th>HitRate_0.5P</th>\n",
       "      <th>HitRate_0.5R</th>\n",
       "      <th>HitRate_3F</th>\n",
       "      <th>HitRate_3P</th>\n",
       "      <th>HitRate_3R</th>\n",
       "      <th>HitRate_t0.5F</th>\n",
       "      <th>HitRate_t0.5P</th>\n",
       "      <th>HitRate_t0.5R</th>\n",
       "      <th>HitRate_t3F</th>\n",
       "      <th>HitRate_t3P</th>\n",
       "      <th>HitRate_t3R</th>\n",
       "      <th>ds_name</th>\n",
       "      <th>track_id</th>\n",
       "    </tr>\n",
       "  </thead>\n",
       "  <tbody>\n",
       "    <tr>\n",
       "      <th>0</th>\n",
       "      <td>0.441305</td>\n",
       "      <td>2.119820</td>\n",
       "      <td>2.113595</td>\n",
       "      <td>3.03014</td>\n",
       "      <td>2.574980</td>\n",
       "      <td>0.326531</td>\n",
       "      <td>0.320000</td>\n",
       "      <td>0.333333</td>\n",
       "      <td>0.530612</td>\n",
       "      <td>0.520000</td>\n",
       "      <td>0.541667</td>\n",
       "      <td>0.266667</td>\n",
       "      <td>0.260870</td>\n",
       "      <td>0.272727</td>\n",
       "      <td>0.488889</td>\n",
       "      <td>0.478261</td>\n",
       "      <td>0.500000</td>\n",
       "      <td>01-Sargon-Mindless.jams</td>\n",
       "      <td>01-Sargon-Mindless</td>\n",
       "    </tr>\n",
       "    <tr>\n",
       "      <th>1</th>\n",
       "      <td>0.437517</td>\n",
       "      <td>1.465760</td>\n",
       "      <td>1.866960</td>\n",
       "      <td>1.58991</td>\n",
       "      <td>2.525040</td>\n",
       "      <td>0.177778</td>\n",
       "      <td>0.200000</td>\n",
       "      <td>0.160000</td>\n",
       "      <td>0.622222</td>\n",
       "      <td>0.700000</td>\n",
       "      <td>0.560000</td>\n",
       "      <td>0.097561</td>\n",
       "      <td>0.111111</td>\n",
       "      <td>0.086957</td>\n",
       "      <td>0.585366</td>\n",
       "      <td>0.666667</td>\n",
       "      <td>0.521739</td>\n",
       "      <td>02-Sargon-Shattered World.jams</td>\n",
       "      <td>02-Sargon-Shattered World</td>\n",
       "    </tr>\n",
       "    <tr>\n",
       "      <th>2</th>\n",
       "      <td>0.448502</td>\n",
       "      <td>1.406305</td>\n",
       "      <td>1.538855</td>\n",
       "      <td>1.44924</td>\n",
       "      <td>1.622175</td>\n",
       "      <td>0.200000</td>\n",
       "      <td>0.227273</td>\n",
       "      <td>0.178571</td>\n",
       "      <td>0.760000</td>\n",
       "      <td>0.863636</td>\n",
       "      <td>0.678571</td>\n",
       "      <td>0.130435</td>\n",
       "      <td>0.150000</td>\n",
       "      <td>0.115385</td>\n",
       "      <td>0.739130</td>\n",
       "      <td>0.850000</td>\n",
       "      <td>0.653846</td>\n",
       "      <td>03-Sargon-Waiting For Silence.jams</td>\n",
       "      <td>03-Sargon-Waiting For Silence</td>\n",
       "    </tr>\n",
       "    <tr>\n",
       "      <th>3</th>\n",
       "      <td>0.319123</td>\n",
       "      <td>0.783670</td>\n",
       "      <td>0.741630</td>\n",
       "      <td>0.87437</td>\n",
       "      <td>0.767820</td>\n",
       "      <td>0.413223</td>\n",
       "      <td>0.409836</td>\n",
       "      <td>0.416667</td>\n",
       "      <td>0.743802</td>\n",
       "      <td>0.737705</td>\n",
       "      <td>0.750000</td>\n",
       "      <td>0.393162</td>\n",
       "      <td>0.389831</td>\n",
       "      <td>0.396552</td>\n",
       "      <td>0.735043</td>\n",
       "      <td>0.728814</td>\n",
       "      <td>0.741379</td>\n",
       "      <td>04-Sargon-The Curse Of Akkad.jams</td>\n",
       "      <td>04-Sargon-The Curse Of Akkad</td>\n",
       "    </tr>\n",
       "  </tbody>\n",
       "</table>\n",
       "</div>"
      ],
      "text/plain": [
       "          D    DevE2R    DevR2E  DevtE2R   DevtR2E  HitRate_0.5F  \\\n",
       "0  0.441305  2.119820  2.113595  3.03014  2.574980      0.326531   \n",
       "1  0.437517  1.465760  1.866960  1.58991  2.525040      0.177778   \n",
       "2  0.448502  1.406305  1.538855  1.44924  1.622175      0.200000   \n",
       "3  0.319123  0.783670  0.741630  0.87437  0.767820      0.413223   \n",
       "\n",
       "   HitRate_0.5P  HitRate_0.5R  HitRate_3F  HitRate_3P  HitRate_3R  \\\n",
       "0      0.320000      0.333333    0.530612    0.520000    0.541667   \n",
       "1      0.200000      0.160000    0.622222    0.700000    0.560000   \n",
       "2      0.227273      0.178571    0.760000    0.863636    0.678571   \n",
       "3      0.409836      0.416667    0.743802    0.737705    0.750000   \n",
       "\n",
       "   HitRate_t0.5F  HitRate_t0.5P  HitRate_t0.5R  HitRate_t3F  HitRate_t3P  \\\n",
       "0       0.266667       0.260870       0.272727     0.488889     0.478261   \n",
       "1       0.097561       0.111111       0.086957     0.585366     0.666667   \n",
       "2       0.130435       0.150000       0.115385     0.739130     0.850000   \n",
       "3       0.393162       0.389831       0.396552     0.735043     0.728814   \n",
       "\n",
       "   HitRate_t3R                             ds_name  \\\n",
       "0     0.500000             01-Sargon-Mindless.jams   \n",
       "1     0.521739      02-Sargon-Shattered World.jams   \n",
       "2     0.653846  03-Sargon-Waiting For Silence.jams   \n",
       "3     0.741379   04-Sargon-The Curse Of Akkad.jams   \n",
       "\n",
       "                        track_id  \n",
       "0             01-Sargon-Mindless  \n",
       "1      02-Sargon-Shattered World  \n",
       "2  03-Sargon-Waiting For Silence  \n",
       "3   04-Sargon-The Curse Of Akkad  "
      ]
     },
     "metadata": {},
     "output_type": "display_data"
    },
    {
     "data": {
      "text/plain": [
       "D                0.411612\n",
       "DevE2R           1.443889\n",
       "DevR2E           1.565260\n",
       "DevtE2R          1.735915\n",
       "DevtR2E          1.872504\n",
       "HitRate_0.5F     0.279383\n",
       "HitRate_0.5P     0.289277\n",
       "HitRate_0.5R     0.272143\n",
       "HitRate_3F       0.664159\n",
       "HitRate_3P       0.705335\n",
       "HitRate_3R       0.632560\n",
       "HitRate_t0.5F    0.221956\n",
       "HitRate_t0.5P    0.227953\n",
       "HitRate_t0.5R    0.217905\n",
       "HitRate_t3F      0.637107\n",
       "HitRate_t3P      0.680935\n",
       "HitRate_t3R      0.604241\n",
       "dtype: float64"
      ]
     },
     "metadata": {},
     "output_type": "display_data"
    }
   ],
   "source": [
    "# Evaluate in collection mode\n",
    "evaluations = msaf.eval.process(dataset, n_jobs=4, boundaries_id=\"foote\")\n",
    "IPython.display.display(evaluations)\n",
    "IPython.display.display(evaluations.mean())"
   ]
  }
 ],
 "metadata": {
  "kernelspec": {
   "display_name": "Python 2",
   "language": "python",
   "name": "python2"
  },
  "language_info": {
   "codemirror_mode": {
    "name": "ipython",
    "version": 2
   },
   "file_extension": ".py",
   "mimetype": "text/x-python",
   "name": "python",
   "nbconvert_exporter": "python",
   "pygments_lexer": "ipython2",
   "version": "2.7.11+"
  }
 },
 "nbformat": 4,
 "nbformat_minor": 0
}
