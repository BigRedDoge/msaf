{
 "cells": [
  {
   "cell_type": "code",
   "execution_count": 49,
   "metadata": {
    "collapsed": false
   },
   "outputs": [],
   "source": [
    "import csv\n",
    "import glob\n",
    "import json\n",
    "import librosa\n",
    "import os\n",
    "\n",
    "import msaf\n",
    "from msaf import jams2\n",
    "from msaf.input_output import FileStruct"
   ]
  },
  {
   "cell_type": "code",
   "execution_count": 50,
   "metadata": {
    "collapsed": true
   },
   "outputs": [],
   "source": [
    "# Set dataset paths\n",
    "ds_dir = \"..\"\n",
    "original_ref_dir = \"../original_references/\"\n",
    "\n",
    "# Get audio files\n",
    "audio_files = glob.glob(os.path.join(ds_dir, msaf.Dataset.audio_dir, \"*.mp3\"))\n",
    "\n",
    "# Make sure that the references folder exist\n",
    "msaf.utils.ensure_dir(os.path.join(ds_dir, msaf.Dataset.references_dir))"
   ]
  },
  {
   "cell_type": "code",
   "execution_count": 53,
   "metadata": {
    "collapsed": true
   },
   "outputs": [],
   "source": [
    "def get_duration(audio_file):\n",
    "    y, sr = librosa.load(audio_file)\n",
    "    return len(y) / float(sr)\n",
    "\n",
    "def fill_global_metadata(jam, csv_file, dur):\n",
    "    \"\"\"Fills the global metada into the JAMS jam.\"\"\"\n",
    "    jam.metadata.artist = \"Sargon\"\n",
    "    jam.metadata.duration = dur  # In seconds\n",
    "    jam.metadata.title = os.path.basename(csv_file).split(\"-\")[2].split(\".\")[0]\n",
    "    jam.metadata.genre = \"metal\"\n",
    "\n",
    "\n",
    "def fill_annotation_metadata(annot, attribute):\n",
    "    \"\"\"Fills the annotation metadata.\"\"\"\n",
    "    annot.annotation_metadata.attribute = attribute\n",
    "    annot.annotation_metadata.corpus = \"Sargon\"\n",
    "    annot.annotation_metadata.version = \"1.0\"\n",
    "    annot.annotation_metadata.annotation_tools = \"Sonic Visualizer\"\n",
    "    annot.annotation_metadata.annotation_rules = \"SALAMI guidelines\"\n",
    "    annot.annotation_metadata.validation_and_reliability = \"TODO\"\n",
    "    annot.annotation_metadata.origin = \"Jarlem All Studios\"\n",
    "    annot.annotation_metadata.annotator.name = \"Oriol Nieto\"\n",
    "    annot.annotation_metadata.annotator.email = \"oriol.nieto@gmail.com\"\n",
    "\n",
    "\n",
    "def fill_section_annotation(csv_file, annot):\n",
    "    \"\"\"Fills the JAMS annot annotation given a csv file.\"\"\"\n",
    "\n",
    "    # Annotation Metadata\n",
    "    fill_annotation_metadata(annot, \"sections\")\n",
    "\n",
    "    with open(orig_ref) as csv_file:\n",
    "        bounds = list(csv.reader(csv_file, delimiter=','))\n",
    "        \n",
    "        for i, bound in enumerate(bounds[:-1]):\n",
    "            section = annot.create_datapoint()\n",
    "            section.start.value = float(bound[0])\n",
    "            section.start.confidence = 0.0\n",
    "            section.end.value = float(bounds[i+1][0])\n",
    "            section.end.confidence = 0.0\n",
    "            section.label.value = str(bound[1])\n",
    "            section.label.confidence = 1.0\n",
    "            section.label.context = \"function\"  # Only function level of annotation"
   ]
  },
  {
   "cell_type": "code",
   "execution_count": null,
   "metadata": {
    "collapsed": false
   },
   "outputs": [],
   "source": [
    "# Parse CSV\n",
    "for audio_file in audio_files:\n",
    "    file_struct = FileStruct(audio_file)\n",
    "    orig_ref = os.path.join(original_ref_dir, os.path.basename(audio_file)[:-3] + \"csv\")\n",
    "    \n",
    "    # New JAMS and annotation\n",
    "    jam = jams2.Jams()\n",
    "\n",
    "    # Global file metadata\n",
    "    fill_global_metadata(jam, orig_ref, get_duration(audio_file))\n",
    "    \n",
    "    # Create Section annotations\n",
    "    annot = jam.sections.create_annotation()\n",
    "    fill_section_annotation(orig_ref, annot)\n",
    "        \n",
    "    # Save JAMS\n",
    "    with open(file_struct.ref_file, \"w\") as jamsfile:\n",
    "        json.dump(jam, jamsfile, indent=2)"
   ]
  },
  {
   "cell_type": "code",
   "execution_count": null,
   "metadata": {
    "collapsed": true
   },
   "outputs": [],
   "source": []
  }
 ],
 "metadata": {
  "kernelspec": {
   "display_name": "Python 2",
   "language": "python",
   "name": "python2"
  },
  "language_info": {
   "codemirror_mode": {
    "name": "ipython",
    "version": 2
   },
   "file_extension": ".py",
   "mimetype": "text/x-python",
   "name": "python",
   "nbconvert_exporter": "python",
   "pygments_lexer": "ipython2",
   "version": "2.7.6"
  }
 },
 "nbformat": 4,
 "nbformat_minor": 0
}
