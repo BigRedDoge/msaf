{
 "metadata": {
  "name": ""
 },
 "nbformat": 3,
 "nbformat_minor": 0,
 "worksheets": [
  {
   "cells": [
    {
     "cell_type": "code",
     "collapsed": false,
     "input": [
      "# Trying to justify that we need a method to merge down the multiple annotations\n",
      "\n",
      "from scipy import stats\n",
      "\n",
      "# Constants\n",
      "metrics = {\"F3\" : 0, \"F05\" : 1}\n",
      "K = 6\n",
      "N = 50\n",
      "\n",
      "def compute_anova(samples):\n",
      "    anova_input = tuple(samples.T)\n",
      "    f_val, p_val = stats.f_oneway(*anova_input)\n",
      "    print \"\\tF(%d, %d) = %.3f, p = %.3f\" % (samples.shape[1]-1, samples.shape[1]*(samples.shape[0] - 1), f_val, p_val)\n",
      "\n",
      "data_path = \"/Users/uri/Dropbox/NYU/Publications/ISMIR2014-NietoHumphreyFarboodBello/exp2b.npz\"\n",
      "data = np.load(open(data_path, \"r\")) # Ntracks x annotators x annotators x metric\n",
      "\n",
      "# ANOVAS with all the annotations combined\n",
      "samples = np.zeros((N, K*(K-1)/2))\n",
      "idx = np.triu_indices(K, k=1)  # Indeces from the symmetric square matrix of comparison\n",
      "for metric in metrics.keys():\n",
      "    for i, track in enumerate(data):\n",
      "        evaluations = track[:, :, metrics[metric]]\n",
      "        samples[i, :] = evaluations[idx]\n",
      "    print \"One-way ANOVA for metric %s:\" % metric\n",
      "    compute_anova(samples)\n",
      "\n",
      "# ANOVAS of all annotations against each annotation separately\n",
      "samples = np.zeros((N, K-1))\n",
      "for ann_id in xrange(K):\n",
      "    for metric in metrics.keys():\n",
      "        for i, track in enumerate(data):\n",
      "            samples[i, :] = np.concatenate((track[0, 1:ann_id+1, metrics[metric]], track[ann_id, ann_id+1:, metrics[metric]]))\n",
      "        print \"One-way ANOVA for metric %s against Ann%d:\" % (metric, ann_id)\n",
      "        compute_anova(samples)"
     ],
     "language": "python",
     "metadata": {},
     "outputs": [
      {
       "output_type": "stream",
       "stream": "stdout",
       "text": [
        "One-way ANOVA for metric F05:\n",
        "\tF(14, 735) = 0.904, p = 0.554\n",
        "One-way ANOVA for metric F3:\n",
        "\tF(14, 735) = 1.158, p = 0.303\n",
        "One-way ANOVA for metric F05 against Ann0:\n",
        "\tF(4, 245) = 1.205, p = 0.309\n",
        "One-way ANOVA for metric F3 against Ann0:\n",
        "\tF(4, 245) = 1.047, p = 0.383\n",
        "One-way ANOVA for metric F05 against Ann1:\n",
        "\tF(4, 245) = 1.711, p = 0.148\n",
        "One-way ANOVA for metric F3 against Ann1:\n",
        "\tF(4, 245) = 0.938, p = 0.443\n",
        "One-way ANOVA for metric F05 against Ann2:\n",
        "\tF(4, 245) = 0.506, p = 0.731\n",
        "One-way ANOVA for metric F3 against Ann2:\n",
        "\tF(4, 245) = 1.297, p = 0.272\n",
        "One-way ANOVA for metric F05 against Ann3:\n",
        "\tF(4, 245) = 1.432, p = 0.224\n",
        "One-way ANOVA for metric F3 against Ann3:\n",
        "\tF(4, 245) = 1.109, p = 0.353\n",
        "One-way ANOVA for metric F05 against Ann4:\n",
        "\tF(4, 245) = 1.273, p = 0.281\n",
        "One-way ANOVA for metric F3 against Ann4:\n",
        "\tF(4, 245) = 0.995, p = 0.411\n",
        "One-way ANOVA for metric F05 against Ann5:\n",
        "\tF(4, 245) = 1.205, p = 0.309\n",
        "One-way ANOVA for metric F3 against Ann5:\n",
        "\tF(4, 245) = 1.047, p = 0.383\n"
       ]
      }
     ],
     "prompt_number": 58
    }
   ],
   "metadata": {}
  }
 ]
}