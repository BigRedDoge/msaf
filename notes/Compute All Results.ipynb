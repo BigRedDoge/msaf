{
 "metadata": {
  "name": "",
  "signature": "sha256:8f9f11d906552b08c6224ffadf472cd77eaea4987a1defe5d90af1af130ac952"
 },
 "nbformat": 3,
 "nbformat_minor": 0,
 "worksheets": [
  {
   "cells": [
    {
     "cell_type": "code",
     "collapsed": false,
     "input": [
      "import glob\n",
      "import msaf\n",
      "import os\n",
      "\n",
      "ds_path = \"/Users/uri/datasets/Segments/\"\n",
      "\n",
      "reload(msaf.eval)\n",
      "\n",
      "# Foote\n",
      "feature = \"hpcp\"\n",
      "bid = \"foote\"\n",
      "ds_name = \"Beatles\"\n",
      "res = msaf.eval.process(ds_path, bid, ds_name=ds_name, feature=feature, n_jobs=1).mean()\n",
      "print res    "
     ],
     "language": "python",
     "metadata": {},
     "outputs": [
      {
       "output_type": "stream",
       "stream": "stdout",
       "text": [
        "D                0.520263\n",
        "DevE2R           3.262783\n",
        "DevR2E           1.271132\n",
        "DevtE2R          4.419840\n",
        "DevtR2E          1.893127\n",
        "HitRate_0.5F     0.249116\n",
        "HitRate_0.5P     0.214990\n",
        "HitRate_0.5R     0.313848\n",
        "HitRate_3F       0.601871\n",
        "HitRate_3P       0.520924\n",
        "HitRate_3R       0.753553\n",
        "HitRate_t0.5F    0.115018\n",
        "HitRate_t0.5P    0.097683\n",
        "HitRate_t0.5R    0.152681\n",
        "HitRate_t3F      0.531370\n",
        "HitRate_t3P      0.452960\n",
        "HitRate_t3R      0.695529\n",
        "dtype: float64\n"
       ]
      }
     ],
     "prompt_number": 2
    },
    {
     "cell_type": "code",
     "collapsed": false,
     "input": [
      "import matplotlib\n",
      "\n",
      "offset = 5\n",
      "labels = res.keys().tolist()[offset:]\n",
      "y = res.tolist()[offset:]\n",
      "x = np.arange(len(y))\n",
      "\n",
      "\n",
      "\n",
      "matplotlib.rcParams.update({'font.size': 15})\n",
      "\n",
      "plt.figure(figsize=(10,5))\n",
      "plt.margins(0.2)\n",
      "labels = [\"$\\mathbf{F}_{0.5}$\", \"$\\mathbf{P}_{0.5}$\", \"$\\mathbf{R}_{0.5}$\", \n",
      "          \"$\\mathbf{F}_{3}$\", \"$\\mathbf{P}_{3}$\", \"$\\mathbf{R}_{0.5}$\",\n",
      "          \"$\\mathbf{F}_{0.5t}$\", \"$\\mathbf{P}_{0.5t}$\", \"$\\mathbf{R}_{0.5t}$\", \n",
      "          \"$\\mathbf{F}_{3t}$\", \"$\\mathbf{P}_{3t}$\", \"$\\mathbf{R}_{3t}$\"]\n",
      "plt.xticks(x, labels)\n",
      "plt.plot(x, y, \"ro--\")"
     ],
     "language": "python",
     "metadata": {},
     "outputs": [
      {
       "metadata": {},
       "output_type": "pyout",
       "prompt_number": 33,
       "text": [
        "[<matplotlib.lines.Line2D at 0x11de60fd0>]"
       ]
      },
      {
       "metadata": {},
       "output_type": "display_data",
       "png": "[encoded data removed]",
       "text": [
        "<matplotlib.figure.Figure at 0x11dd7f690>"
       ]
      }
     ],
     "prompt_number": 33
    }
   ],
   "metadata": {}
  }
 ]
}