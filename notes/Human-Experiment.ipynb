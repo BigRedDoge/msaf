{
 "metadata": {
  "name": ""
 },
 "nbformat": 3,
 "nbformat_minor": 0,
 "worksheets": [
  {
   "cells": [
    {
     "cell_type": "code",
     "collapsed": false,
     "input": [
      "# Add last boundary to human annotations\n",
      "import jams2\n",
      "import glob\n",
      "import json\n",
      "\n",
      "annotators = {}\n",
      "annotators[\"Colin\"] = {\n",
      "    \"name\"  : \"Colin\",\n",
      "    \"email\" : \"colin.z.hua@gmail.com\"\n",
      "}\n",
      "annotators[\"Eleni\"] = {\n",
      "    \"name\"  : \"Eleni\",\n",
      "    \"email\" : \"evm241@nyu.edu\"\n",
      "}\n",
      "annotators[\"Evan\"] = {\n",
      "    \"name\"  : \"Evan\",\n",
      "    \"email\" : \"esj254@nyu.edu\"\n",
      "}\n",
      "annotators[\"John\"] = {\n",
      "    \"name\"  : \"John\",\n",
      "    \"email\" : \"johnturner@me.com\"\n",
      "}\n",
      "annotators[\"Shuli\"] = {\n",
      "    \"name\"  : \"Shuli\",\n",
      "    \"email\" : \"luiseslt@gmail.com\"\n",
      "}\n",
      "\n",
      "def update_last_boundary(jam_file, annotator_name, time, context):\n",
      "    jam = jams2.load(jam_file)\n",
      "    for annotation in jam[\"sections\"]:\n",
      "        if annotation.annotation_metadata.annotator.name == annotator_name:\n",
      "            for i, data in enumerate(annotation.data):\n",
      "                if annotation.data[i+1].label.context == \"small_scale\":\n",
      "                    data.end.value = time\n",
      "                    break\n",
      "            break\n",
      "    json.dump(jam, open(jam_file, \"w\"), indent=2)\n",
      "    \n",
      "def add_last_boundary(jam_file, annotator_name, time, context):\n",
      "    jam = jams2.load(jam_file)\n",
      "    for annotation in jam[\"sections\"]:\n",
      "        if annotation.annotation_metadata.annotator.name == annotator_name:\n",
      "            for i, data in enumerate(annotation.data):\n",
      "                if annotation.data[i+1].label.context == \"small_scale\":\n",
      "                    segment = annotation.create_datapoint()\n",
      "                    segment.start.value = data.end.value\n",
      "                    segment.end.value = time\n",
      "                    segment.label.value = \"END\"\n",
      "                    segment.label.context = context\n",
      "                    break\n",
      "            break\n",
      "    json.dump(jam, open(jam_file, \"w\"), indent=2)\n",
      "\n",
      "jam_files = glob.glob(\"/Users/uri/datasets/SubSegments/annotations/*.jams\")\n",
      "context = \"large_scale\"\n",
      "for jam_file in jam_files:\n",
      "    jam = jams2.load(jam_file)\n",
      "    dur = jam.metadata.duration\n",
      "    for key in annotators.keys():\n",
      "        inters, labels = jams2.converters.load_jams_range(jam_file, \"sections\", \n",
      "                                                          annotator_name=annotators[key][\"name\"], \n",
      "                                                          context=context)\n",
      "        if dur - inters[-1,-1] < -.1:\n",
      "            print \"Warning: the last boundary by %s is placed after the track duration! (%s)\" % \\\n",
      "                (key, jam_file)\n",
      "            print dur, inters[-1, -1]\n",
      "            update_last_boundary(jam_file, key, dur, context)\n",
      "        \n",
      "        if np.abs(dur - inters[-1, -1]) > 0.5:\n",
      "            print \"Warning: the last boundary by %s is not placed at the end of the track! (%s)\" % \\\n",
      "                (key, jam_file) \n",
      "            print dur, inters[-1, -1]\n",
      "            add_last_boundary(jam_file, key, dur, context)\n",
      "    print dur\n",
      "\n"
     ],
     "language": "python",
     "metadata": {},
     "outputs": [
      {
       "output_type": "stream",
       "stream": "stdout",
       "text": [
        "495.49061\n",
        "482.01143"
       ]
      },
      {
       "output_type": "stream",
       "stream": "stdout",
       "text": [
        "\n",
        "364.93061"
       ]
      },
      {
       "output_type": "stream",
       "stream": "stdout",
       "text": [
        "\n",
        "341.86449"
       ]
      },
      {
       "output_type": "stream",
       "stream": "stdout",
       "text": [
        "\n",
        "525.37469\n",
        "586.05714"
       ]
      },
      {
       "output_type": "stream",
       "stream": "stdout",
       "text": [
        "\n",
        "522.39673"
       ]
      },
      {
       "output_type": "stream",
       "stream": "stdout",
       "text": [
        "\n",
        "569.26041"
       ]
      },
      {
       "output_type": "stream",
       "stream": "stdout",
       "text": [
        "\n",
        "161.72336"
       ]
      },
      {
       "output_type": "stream",
       "stream": "stdout",
       "text": [
        "\n",
        "237.19111"
       ]
      },
      {
       "output_type": "stream",
       "stream": "stdout",
       "text": [
        "\n",
        "182.77805"
       ]
      },
      {
       "output_type": "stream",
       "stream": "stdout",
       "text": [
        "\n",
        "263.68"
       ]
      },
      {
       "output_type": "stream",
       "stream": "stdout",
       "text": [
        "\n",
        "236.79955"
       ]
      },
      {
       "output_type": "stream",
       "stream": "stdout",
       "text": [
        "\n",
        "297.69098"
       ]
      },
      {
       "output_type": "stream",
       "stream": "stdout",
       "text": [
        "\n",
        "40.59927\n",
        "242.4156"
       ]
      },
      {
       "output_type": "stream",
       "stream": "stdout",
       "text": [
        "\n",
        "230.4254"
       ]
      },
      {
       "output_type": "stream",
       "stream": "stdout",
       "text": [
        "\n",
        "269.68744"
       ]
      },
      {
       "output_type": "stream",
       "stream": "stdout",
       "text": [
        "\n",
        "444.50667"
       ]
      },
      {
       "output_type": "stream",
       "stream": "stdout",
       "text": [
        "\n",
        "431.96082"
       ]
      },
      {
       "output_type": "stream",
       "stream": "stdout",
       "text": [
        "\n",
        "297.87429"
       ]
      },
      {
       "output_type": "stream",
       "stream": "stdout",
       "text": [
        "\n",
        "399.19746"
       ]
      },
      {
       "output_type": "stream",
       "stream": "stdout",
       "text": [
        "\n",
        "550.22005"
       ]
      },
      {
       "output_type": "stream",
       "stream": "stdout",
       "text": [
        "\n",
        "262.32163\n",
        "209.73333"
       ]
      },
      {
       "output_type": "stream",
       "stream": "stdout",
       "text": [
        "\n",
        "373.36"
       ]
      },
      {
       "output_type": "stream",
       "stream": "stdout",
       "text": [
        "\n",
        "574.56"
       ]
      },
      {
       "output_type": "stream",
       "stream": "stdout",
       "text": [
        "\n",
        "341.30667"
       ]
      },
      {
       "output_type": "stream",
       "stream": "stdout",
       "text": [
        "\n",
        "564.76735"
       ]
      },
      {
       "output_type": "stream",
       "stream": "stdout",
       "text": [
        "\n",
        "178.36408"
       ]
      },
      {
       "output_type": "stream",
       "stream": "stdout",
       "text": [
        "\n",
        "240.06531\n",
        "251.06286"
       ]
      },
      {
       "output_type": "stream",
       "stream": "stdout",
       "text": [
        "\n",
        "458.05714"
       ]
      },
      {
       "output_type": "stream",
       "stream": "stdout",
       "text": [
        "\n",
        "282.6449"
       ]
      },
      {
       "output_type": "stream",
       "stream": "stdout",
       "text": [
        "\n",
        "490.78857"
       ]
      },
      {
       "output_type": "stream",
       "stream": "stdout",
       "text": [
        "\n",
        "254.19755"
       ]
      },
      {
       "output_type": "stream",
       "stream": "stdout",
       "text": [
        "\n",
        "525.06122"
       ]
      },
      {
       "output_type": "stream",
       "stream": "stdout",
       "text": [
        "\n",
        "52.76735\n",
        "266.50667"
       ]
      },
      {
       "output_type": "stream",
       "stream": "stdout",
       "text": [
        "\n",
        "209.52816\n",
        "256.02612"
       ]
      },
      {
       "output_type": "stream",
       "stream": "stdout",
       "text": [
        "\n",
        "544.05224"
       ]
      },
      {
       "output_type": "stream",
       "stream": "stdout",
       "text": [
        "\n",
        "348.68245"
       ]
      },
      {
       "output_type": "stream",
       "stream": "stdout",
       "text": [
        "\n",
        "468.14041"
       ]
      },
      {
       "output_type": "stream",
       "stream": "stdout",
       "text": [
        "\n",
        "268.51265"
       ]
      },
      {
       "output_type": "stream",
       "stream": "stdout",
       "text": [
        "\n",
        "321.22776"
       ]
      },
      {
       "output_type": "stream",
       "stream": "stdout",
       "text": [
        "\n",
        "213.13306\n",
        "203.25878"
       ]
      },
      {
       "output_type": "stream",
       "stream": "stdout",
       "text": [
        "\n",
        "419.47429"
       ]
      },
      {
       "output_type": "stream",
       "stream": "stdout",
       "text": [
        "\n",
        "240.06531"
       ]
      },
      {
       "output_type": "stream",
       "stream": "stdout",
       "text": [
        "\n"
       ]
      }
     ],
     "prompt_number": 31
    },
    {
     "cell_type": "code",
     "collapsed": false,
     "input": [],
     "language": "python",
     "metadata": {},
     "outputs": []
    }
   ],
   "metadata": {}
  }
 ]
}