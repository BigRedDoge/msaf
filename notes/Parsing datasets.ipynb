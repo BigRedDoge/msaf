{
 "metadata": {
  "name": ""
 },
 "nbformat": 3,
 "nbformat_minor": 0,
 "worksheets": [
  {
   "cells": [
    {
     "cell_type": "heading",
     "level": 1,
     "metadata": {},
     "source": [
      "SALAMI"
     ]
    },
    {
     "cell_type": "code",
     "collapsed": false,
     "input": [
      "import glob\n",
      "import os\n",
      "\n",
      "track_paths = glob.glob(\"/Volumes/Audio/datasets/Segments/originalDatasets/SALAMI/data/*\")\n",
      "for track_path in track_paths:\n",
      "    if not os.path.isdir(os.path.join(track_path, \"parsed\")):\n",
      "        print \"merda\", os.path.basename(track_path)"
     ],
     "language": "python",
     "metadata": {},
     "outputs": [],
     "prompt_number": 2
    },
    {
     "cell_type": "code",
     "collapsed": false,
     "input": [],
     "language": "python",
     "metadata": {},
     "outputs": []
    }
   ],
   "metadata": {}
  }
 ]
}