{
 "metadata": {
  "name": ""
 },
 "nbformat": 3,
 "nbformat_minor": 0,
 "worksheets": [
  {
   "cells": [
    {
     "cell_type": "heading",
     "level": 1,
     "metadata": {},
     "source": [
      "SALAMI"
     ]
    },
    {
     "cell_type": "code",
     "collapsed": false,
     "input": [
      "import glob\n",
      "import os\n",
      "import jams\n",
      "import json\n",
      "\n",
      "SALAMI_path = \"/Users/uri/datasets/SALAMI/data/\"\n",
      "track_paths = glob.glob(os.path.join(SALAMI_path, \"*\"))\n",
      "\n",
      "for track_path in track_paths:\n",
      "    if not os.path.isdir(os.path.join(track_path, \"parsed\")):\n",
      "        print \"merda\", os.path.basename(track_path)\n",
      "        break\n",
      "    \n",
      "    # Create JAM\n",
      "    jam = jams.Jams()\n",
      "    \n",
      "    # Create Metadata\n",
      "    jam.metadata.artist = \"Sargon\"\n",
      "    jam.metadata.\n",
      "    \n",
      "    # Create Annotation\n",
      "    annot = jam.sections.create_annotation()\n",
      "    annot.annotation_metadata.origin = \"SALAMI v1.2\"\n",
      "    annot.annotation_metadata.annotator = \"SALAMI_1\"\n",
      "    annot.annotation_metadata.\n",
      "    section = annot.create_datapoint()\n",
      "    section.level = \"function\"\n",
      "    section.start.value = 0.0\n",
      "    section.start.confidence = 1.0\n",
      "    section.end.value = 0.464399092\n",
      "    section.end.confidence = 1.0\n",
      "    section.label.value = \"Silence\"\n",
      "    section.label.confidence = 1.0\n",
      "    fh = open(\"sections.jams\", \"w\")\n",
      "    json.dump(jam, fh, indent=2)\n",
      "    fh.close()\n",
      "    print os.path.basename(track_path)\n",
      "    break"
     ],
     "language": "python",
     "metadata": {},
     "outputs": [
      {
       "output_type": "stream",
       "stream": "stdout",
       "text": [
        "10\n"
       ]
      }
     ],
     "prompt_number": 11
    },
    {
     "cell_type": "code",
     "collapsed": false,
     "input": [
      "import json\n",
      "f = open(\"/Users/uri/datasets/Segments/originalDatasets/Cerulean/charlie/gt/Yellowjackets-Motet.json\", \"r\")\n",
      "gt = json.load(f)\n",
      "gt"
     ],
     "language": "python",
     "metadata": {},
     "outputs": [
      {
       "metadata": {},
       "output_type": "pyout",
       "prompt_number": 15,
       "text": [
        "u'TRZNBDZ1379DEFC068'"
       ]
      }
     ],
     "prompt_number": 15
    },
    {
     "cell_type": "code",
     "collapsed": false,
     "input": [
      "len(gt[\"sections\"])"
     ],
     "language": "python",
     "metadata": {},
     "outputs": [
      {
       "metadata": {},
       "output_type": "pyout",
       "prompt_number": 21,
       "text": [
        "16"
       ]
      }
     ],
     "prompt_number": 21
    },
    {
     "cell_type": "code",
     "collapsed": false,
     "input": [
      "gt[\"sections\"]"
     ],
     "language": "python",
     "metadata": {},
     "outputs": [
      {
       "metadata": {},
       "output_type": "pyout",
       "prompt_number": 22,
       "text": [
        "[{u'label': u'a', u'opt': u'intro', u'start': 0.0},\n",
        " {u'label': u'b', u'opt': u'', u'start': 11.2},\n",
        " {u'label': u'c', u'opt': u'chorus', u'start': 22.5},\n",
        " {u'label': u'b', u'opt': u'', u'start': 44.3},\n",
        " {u'label': u'c', u'opt': u'chorus', u'start': 54.8},\n",
        " {u'label': u'd', u'opt': u'bridge', u'start': 75.2},\n",
        " {u'label': u'b', u'opt': u'piano solo', u'start': 98.2},\n",
        " {u'label': u'e', u'opt': u'saxophone solo', u'start': 120.4},\n",
        " {u'label': u'f', u'opt': u'bass solo', u'start': 253.3},\n",
        " {u'label': u'g', u'opt': u'', u'start': 375.5},\n",
        " {u'label': u'c', u'opt': u'chorus', u'start': 398.4},\n",
        " {u'label': u'd', u'opt': u'bridge', u'start': 418.9},\n",
        " {u'label': u'h', u'opt': u'piano solo 2', u'start': 441.1},\n",
        " {u'label': u'd', u'opt': u'bridge', u'start': 504.0},\n",
        " {u'label': u'i', u'opt': u'sax solo 2', u'start': 525.6},\n",
        " {u'label': u'j', u'opt': u'outro and applause', u'start': 546.1}]"
       ]
      }
     ],
     "prompt_number": 22
    },
    {
     "cell_type": "code",
     "collapsed": false,
     "input": [
      "import shutil\n",
      "shutil.copy(\"\")"
     ],
     "language": "python",
     "metadata": {},
     "outputs": [
      {
       "ename": "TypeError",
       "evalue": "copy() takes exactly 2 arguments (1 given)",
       "output_type": "pyerr",
       "traceback": [
        "\u001b[0;31m---------------------------------------------------------------------------\u001b[0m\n\u001b[0;31mTypeError\u001b[0m                                 Traceback (most recent call last)",
        "\u001b[0;32m<ipython-input-25-915e6e84a4c0>\u001b[0m in \u001b[0;36m<module>\u001b[0;34m()\u001b[0m\n\u001b[1;32m      1\u001b[0m \u001b[0;32mimport\u001b[0m \u001b[0mshutil\u001b[0m\u001b[0;34m\u001b[0m\u001b[0m\n\u001b[0;32m----> 2\u001b[0;31m \u001b[0mshutil\u001b[0m\u001b[0;34m.\u001b[0m\u001b[0mcopy\u001b[0m\u001b[0;34m(\u001b[0m\u001b[0;34m\"\"\u001b[0m\u001b[0;34m)\u001b[0m\u001b[0;34m\u001b[0m\u001b[0m\n\u001b[0m",
        "\u001b[0;31mTypeError\u001b[0m: copy() takes exactly 2 arguments (1 given)"
       ]
      }
     ],
     "prompt_number": 25
    },
    {
     "cell_type": "code",
     "collapsed": false,
     "input": [
      "os.path."
     ],
     "language": "python",
     "metadata": {},
     "outputs": []
    }
   ],
   "metadata": {}
  }
 ]
}