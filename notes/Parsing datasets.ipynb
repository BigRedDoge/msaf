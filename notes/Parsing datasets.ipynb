{
 "metadata": {
  "name": ""
 },
 "nbformat": 3,
 "nbformat_minor": 0,
 "worksheets": [
  {
   "cells": [
    {
     "cell_type": "heading",
     "level": 1,
     "metadata": {},
     "source": [
      "SALAMI"
     ]
    },
    {
     "cell_type": "code",
     "collapsed": false,
     "input": [
      "import glob\n",
      "import os\n",
      "import jams\n",
      "import json\n",
      "\n",
      "SALAMI_path = \"/Users/uri/datasets/SALAMI/data/\"\n",
      "track_paths = glob.glob(os.path.join(SALAMI_path, \"*\"))\n",
      "\n",
      "for track_path in track_paths:\n",
      "    if not os.path.isdir(os.path.join(track_path, \"parsed\")):\n",
      "        print \"merda\", os.path.basename(track_path)\n",
      "        break\n",
      "    \n",
      "    # Create JAM\n",
      "    jam = jams.Jams()\n",
      "    \n",
      "    # Create Metadata\n",
      "    jam.metadata.artist = \"Sargon\"\n",
      "    jam.metadata.\n",
      "    \n",
      "    # Create Annotation\n",
      "    annot = jam.sections.create_annotation()\n",
      "    annot.annotation_metadata.origin = \"SALAMI v1.2\"\n",
      "    annot.annotation_metadata.annotator = \"SALAMI_1\"\n",
      "    annot.annotation_metadata.\n",
      "    section = annot.create_datapoint()\n",
      "    section.level = \"function\"\n",
      "    section.start.value = 0.0\n",
      "    section.start.confidence = 1.0\n",
      "    section.end.value = 0.464399092\n",
      "    section.end.confidence = 1.0\n",
      "    section.label.value = \"Silence\"\n",
      "    section.label.confidence = 1.0\n",
      "    fh = open(\"sections.jams\", \"w\")\n",
      "    json.dump(jam, fh, indent=2)\n",
      "    fh.close()\n",
      "    print os.path.basename(track_path)\n",
      "    break"
     ],
     "language": "python",
     "metadata": {},
     "outputs": [
      {
       "output_type": "stream",
       "stream": "stdout",
       "text": [
        "10\n"
       ]
      }
     ],
     "prompt_number": 11
    },
    {
     "cell_type": "code",
     "collapsed": false,
     "input": [],
     "language": "python",
     "metadata": {},
     "outputs": []
    }
   ],
   "metadata": {}
  }
 ]
}