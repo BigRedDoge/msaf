{
 "metadata": {
  "name": ""
 },
 "nbformat": 3,
 "nbformat_minor": 0,
 "worksheets": [
  {
   "cells": [
    {
     "cell_type": "heading",
     "level": 1,
     "metadata": {},
     "source": [
      "SALAMI"
     ]
    },
    {
     "cell_type": "code",
     "collapsed": false,
     "input": [
      "import glob\n",
      "import os\n",
      "import jams\n",
      "import json\n",
      "\n",
      "SALAMI_path = \"/Users/uri/datasets/SALAMI/data/\"\n",
      "track_paths = glob.glob(os.path.join(SALAMI_path, \"*\"))\n",
      "\n",
      "for track_path in track_paths:\n",
      "    if not os.path.isdir(os.path.join(track_path, \"parsed\")):\n",
      "        print \"merda\", os.path.basename(track_path)\n",
      "        break\n",
      "    \n",
      "    # Create JAM\n",
      "    jam = jams.Jams()\n",
      "    \n",
      "    # Create Metadata\n",
      "    jam.metadata.artist = \"Sargon\"\n",
      "    jam.metadata.\n",
      "    \n",
      "    # Create Annotation\n",
      "    annot = jam.sections.create_annotation()\n",
      "    annot.annotation_metadata.origin = \"SALAMI v1.2\"\n",
      "    annot.annotation_metadata.annotator = \"SALAMI_1\"\n",
      "    annot.annotation_metadata.\n",
      "    section = annot.create_datapoint()\n",
      "    section.level = \"function\"\n",
      "    section.start.value = 0.0\n",
      "    section.start.confidence = 1.0\n",
      "    section.end.value = 0.464399092\n",
      "    section.end.confidence = 1.0\n",
      "    section.label.value = \"Silence\"\n",
      "    section.label.confidence = 1.0\n",
      "    fh = open(\"sections.jams\", \"w\")\n",
      "    json.dump(jam, fh, indent=2)\n",
      "    fh.close()\n",
      "    print os.path.basename(track_path)\n",
      "    break"
     ],
     "language": "python",
     "metadata": {},
     "outputs": [
      {
       "output_type": "stream",
       "stream": "stdout",
       "text": [
        "10\n"
       ]
      }
     ],
     "prompt_number": 11
    },
    {
     "cell_type": "code",
     "collapsed": false,
     "input": [
      "import json\n",
      "f = open(\"/Users/uri/datasets/Segments/originalDatasets/Cerulean/charlie/gt/Yellowjackets-Motet.json\", \"r\")\n",
      "gt = json.load(f)\n",
      "gt"
     ],
     "language": "python",
     "metadata": {},
     "outputs": [
      {
       "metadata": {},
       "output_type": "pyout",
       "prompt_number": 15,
       "text": [
        "u'TRZNBDZ1379DEFC068'"
       ]
      }
     ],
     "prompt_number": 15
    },
    {
     "cell_type": "code",
     "collapsed": false,
     "input": [
      "len(gt[\"sections\"])"
     ],
     "language": "python",
     "metadata": {},
     "outputs": [
      {
       "metadata": {},
       "output_type": "pyout",
       "prompt_number": 21,
       "text": [
        "16"
       ]
      }
     ],
     "prompt_number": 21
    },
    {
     "cell_type": "code",
     "collapsed": false,
     "input": [
      "gt[\"sections\"]"
     ],
     "language": "python",
     "metadata": {},
     "outputs": [
      {
       "metadata": {},
       "output_type": "pyout",
       "prompt_number": 22,
       "text": [
        "[{u'label': u'a', u'opt': u'intro', u'start': 0.0},\n",
        " {u'label': u'b', u'opt': u'', u'start': 11.2},\n",
        " {u'label': u'c', u'opt': u'chorus', u'start': 22.5},\n",
        " {u'label': u'b', u'opt': u'', u'start': 44.3},\n",
        " {u'label': u'c', u'opt': u'chorus', u'start': 54.8},\n",
        " {u'label': u'd', u'opt': u'bridge', u'start': 75.2},\n",
        " {u'label': u'b', u'opt': u'piano solo', u'start': 98.2},\n",
        " {u'label': u'e', u'opt': u'saxophone solo', u'start': 120.4},\n",
        " {u'label': u'f', u'opt': u'bass solo', u'start': 253.3},\n",
        " {u'label': u'g', u'opt': u'', u'start': 375.5},\n",
        " {u'label': u'c', u'opt': u'chorus', u'start': 398.4},\n",
        " {u'label': u'd', u'opt': u'bridge', u'start': 418.9},\n",
        " {u'label': u'h', u'opt': u'piano solo 2', u'start': 441.1},\n",
        " {u'label': u'd', u'opt': u'bridge', u'start': 504.0},\n",
        " {u'label': u'i', u'opt': u'sax solo 2', u'start': 525.6},\n",
        " {u'label': u'j', u'opt': u'outro and applause', u'start': 546.1}]"
       ]
      }
     ],
     "prompt_number": 22
    },
    {
     "cell_type": "code",
     "collapsed": false,
     "input": [
      "import shutil\n",
      "shutil.copy(\"\")"
     ],
     "language": "python",
     "metadata": {},
     "outputs": [
      {
       "ename": "TypeError",
       "evalue": "copy() takes exactly 2 arguments (1 given)",
       "output_type": "pyerr",
       "traceback": [
        "\u001b[0;31m---------------------------------------------------------------------------\u001b[0m\n\u001b[0;31mTypeError\u001b[0m                                 Traceback (most recent call last)",
        "\u001b[0;32m<ipython-input-25-915e6e84a4c0>\u001b[0m in \u001b[0;36m<module>\u001b[0;34m()\u001b[0m\n\u001b[1;32m      1\u001b[0m \u001b[0;32mimport\u001b[0m \u001b[0mshutil\u001b[0m\u001b[0;34m\u001b[0m\u001b[0m\n\u001b[0;32m----> 2\u001b[0;31m \u001b[0mshutil\u001b[0m\u001b[0;34m.\u001b[0m\u001b[0mcopy\u001b[0m\u001b[0;34m(\u001b[0m\u001b[0;34m\"\"\u001b[0m\u001b[0;34m)\u001b[0m\u001b[0;34m\u001b[0m\u001b[0m\n\u001b[0m",
        "\u001b[0;31mTypeError\u001b[0m: copy() takes exactly 2 arguments (1 given)"
       ]
      }
     ],
     "prompt_number": 25
    },
    {
     "cell_type": "code",
     "collapsed": false,
     "input": [
      "# These lines import specific things from Remix! \n",
      "#from echonest.remix.audio import LocalAudioFile\n",
      "\n",
      "from pyechonest import track\n",
      "\n",
      "# Set Uri's Echo Nest API Key\n",
      "from pyechonest import config\n",
      "config.ECHO_NEST_API_KEY=\"RRIGOW0BG5NJTM5M4\"\n",
      "\n",
      "#track = LocalAudioFile(\"/Users/uri/datasets/Segments/audio/Cerulean_50_Cent-Window_Shopper.mp3\", verbose=True)\n",
      "pytrack = track.track_from_filename(\"/Users/uri/datasets/Segments/audio/Epiphyte_0001_12step.wav\")"
     ],
     "language": "python",
     "metadata": {},
     "outputs": [],
     "prompt_number": 57
    },
    {
     "cell_type": "code",
     "collapsed": false,
     "input": [
      "pytrack."
     ],
     "language": "python",
     "metadata": {},
     "outputs": [
      {
       "metadata": {},
       "output_type": "pyout",
       "prompt_number": 59,
       "text": [
        "u'1e12a0952710bd81bf63be1d2ed17395'"
       ]
      }
     ],
     "prompt_number": 59
    },
    {
     "cell_type": "code",
     "collapsed": false,
     "input": [
      "import jams\n",
      "jam = jams.load(\"/Users/uri/datasets/Segments/annotations/Cerulean_50_Cent-Window_Shopper.jams\")"
     ],
     "language": "python",
     "metadata": {},
     "outputs": [
      {
       "ename": "TypeError",
       "evalue": "__init__() got an unexpected keyword argument 'level'",
       "output_type": "pyerr",
       "traceback": [
        "\u001b[0;31m---------------------------------------------------------------------------\u001b[0m\n\u001b[0;31mTypeError\u001b[0m                                 Traceback (most recent call last)",
        "\u001b[0;32m<ipython-input-1-f711779c379f>\u001b[0m in \u001b[0;36m<module>\u001b[0;34m()\u001b[0m\n\u001b[1;32m      1\u001b[0m \u001b[0;32mimport\u001b[0m \u001b[0mjams\u001b[0m\u001b[0;34m\u001b[0m\u001b[0m\n\u001b[0;32m----> 2\u001b[0;31m \u001b[0mjam\u001b[0m \u001b[0;34m=\u001b[0m \u001b[0mjams\u001b[0m\u001b[0;34m.\u001b[0m\u001b[0mload\u001b[0m\u001b[0;34m(\u001b[0m\u001b[0;34m\"/Users/uri/datasets/Segments/annotations/Cerulean_50_Cent-Window_Shopper.jams\"\u001b[0m\u001b[0;34m)\u001b[0m\u001b[0;34m\u001b[0m\u001b[0m\n\u001b[0m",
        "\u001b[0;32m/Users/uri/NYU/Dissertation/jams/fileio.pyc\u001b[0m in \u001b[0;36mload\u001b[0;34m(filepath)\u001b[0m\n\u001b[1;32m     11\u001b[0m     \u001b[0;34m\"\"\"Load a JSON formatted stream from a file.\"\"\"\u001b[0m\u001b[0;34m\u001b[0m\u001b[0m\n\u001b[1;32m     12\u001b[0m     \u001b[0mfpointer\u001b[0m \u001b[0;34m=\u001b[0m \u001b[0mopen\u001b[0m\u001b[0;34m(\u001b[0m\u001b[0mfilepath\u001b[0m\u001b[0;34m,\u001b[0m \u001b[0;34m'r'\u001b[0m\u001b[0;34m)\u001b[0m\u001b[0;34m\u001b[0m\u001b[0m\n\u001b[0;32m---> 13\u001b[0;31m     \u001b[0;32mreturn\u001b[0m \u001b[0mJams\u001b[0m\u001b[0;34m(\u001b[0m\u001b[0;34m**\u001b[0m\u001b[0mjson\u001b[0m\u001b[0;34m.\u001b[0m\u001b[0mload\u001b[0m\u001b[0;34m(\u001b[0m\u001b[0mfpointer\u001b[0m\u001b[0;34m)\u001b[0m\u001b[0;34m)\u001b[0m\u001b[0;34m\u001b[0m\u001b[0m\n\u001b[0m\u001b[1;32m     14\u001b[0m \u001b[0;34m\u001b[0m\u001b[0m\n\u001b[1;32m     15\u001b[0m \u001b[0;34m\u001b[0m\u001b[0m\n",
        "\u001b[0;32m/Users/uri/NYU/Dissertation/jams/pyjams.py\u001b[0m in \u001b[0;36m__init__\u001b[0;34m(self, beats, chords, melody, sections, tags, metadata)\u001b[0m\n\u001b[1;32m    594\u001b[0m         \u001b[0mself\u001b[0m\u001b[0;34m.\u001b[0m\u001b[0mchords\u001b[0m \u001b[0;34m=\u001b[0m \u001b[0mAnnotationSet\u001b[0m\u001b[0;34m(\u001b[0m\u001b[0mchords\u001b[0m\u001b[0;34m,\u001b[0m \u001b[0mRangeAnnotation\u001b[0m\u001b[0;34m)\u001b[0m\u001b[0;34m\u001b[0m\u001b[0m\n\u001b[1;32m    595\u001b[0m         \u001b[0mself\u001b[0m\u001b[0;34m.\u001b[0m\u001b[0mmelody\u001b[0m \u001b[0;34m=\u001b[0m \u001b[0mAnnotationSet\u001b[0m\u001b[0;34m(\u001b[0m\u001b[0mmelody\u001b[0m\u001b[0;34m,\u001b[0m \u001b[0mTimeSeriesAnnotation\u001b[0m\u001b[0;34m)\u001b[0m\u001b[0;34m\u001b[0m\u001b[0m\n\u001b[0;32m--> 596\u001b[0;31m         \u001b[0mself\u001b[0m\u001b[0;34m.\u001b[0m\u001b[0msections\u001b[0m \u001b[0;34m=\u001b[0m \u001b[0mAnnotationSet\u001b[0m\u001b[0;34m(\u001b[0m\u001b[0msections\u001b[0m\u001b[0;34m,\u001b[0m \u001b[0mRangeAnnotation\u001b[0m\u001b[0;34m)\u001b[0m\u001b[0;34m\u001b[0m\u001b[0m\n\u001b[0m\u001b[1;32m    597\u001b[0m         \u001b[0mself\u001b[0m\u001b[0;34m.\u001b[0m\u001b[0mtags\u001b[0m \u001b[0;34m=\u001b[0m \u001b[0mAnnotationSet\u001b[0m\u001b[0;34m(\u001b[0m\u001b[0mtags\u001b[0m\u001b[0;34m,\u001b[0m \u001b[0mAnnotation\u001b[0m\u001b[0;34m)\u001b[0m\u001b[0;34m\u001b[0m\u001b[0m\n\u001b[1;32m    598\u001b[0m         \u001b[0mself\u001b[0m\u001b[0;34m.\u001b[0m\u001b[0mmetadata\u001b[0m \u001b[0;34m=\u001b[0m \u001b[0mMetadata\u001b[0m\u001b[0;34m(\u001b[0m\u001b[0;34m**\u001b[0m\u001b[0mmetadata\u001b[0m\u001b[0;34m)\u001b[0m\u001b[0;34m\u001b[0m\u001b[0m\n",
        "\u001b[0;32m/Users/uri/NYU/Dissertation/jams/pyjams.py\u001b[0m in \u001b[0;36m__init__\u001b[0;34m(self, annotations, DefaultType)\u001b[0m\n\u001b[1;32m    435\u001b[0m         \"\"\"\n\u001b[1;32m    436\u001b[0m         \u001b[0mself\u001b[0m\u001b[0;34m.\u001b[0m\u001b[0m_DefaultType\u001b[0m \u001b[0;34m=\u001b[0m \u001b[0mDefaultType\u001b[0m\u001b[0;34m\u001b[0m\u001b[0m\n\u001b[0;32m--> 437\u001b[0;31m         \u001b[0mself\u001b[0m\u001b[0;34m.\u001b[0m\u001b[0mextend\u001b[0m\u001b[0;34m(\u001b[0m\u001b[0;34m[\u001b[0m\u001b[0mself\u001b[0m\u001b[0;34m.\u001b[0m\u001b[0m_DefaultType\u001b[0m\u001b[0;34m(\u001b[0m\u001b[0;34m**\u001b[0m\u001b[0mobj\u001b[0m\u001b[0;34m)\u001b[0m \u001b[0;32mfor\u001b[0m \u001b[0mobj\u001b[0m \u001b[0;32min\u001b[0m \u001b[0mannotations\u001b[0m\u001b[0;34m]\u001b[0m\u001b[0;34m)\u001b[0m\u001b[0;34m\u001b[0m\u001b[0m\n\u001b[0m\u001b[1;32m    438\u001b[0m \u001b[0;34m\u001b[0m\u001b[0m\n\u001b[1;32m    439\u001b[0m     \u001b[0;32mdef\u001b[0m \u001b[0mcreate_annotation\u001b[0m\u001b[0;34m(\u001b[0m\u001b[0mself\u001b[0m\u001b[0;34m)\u001b[0m\u001b[0;34m:\u001b[0m\u001b[0;34m\u001b[0m\u001b[0m\n",
        "\u001b[0;32m/Users/uri/NYU/Dissertation/jams/pyjams.py\u001b[0m in \u001b[0;36m__init__\u001b[0;34m(self, data, annotation_metadata)\u001b[0m\n\u001b[1;32m    282\u001b[0m         \u001b[0;32mif\u001b[0m \u001b[0mannotation_metadata\u001b[0m \u001b[0;32mis\u001b[0m \u001b[0mNone\u001b[0m\u001b[0;34m:\u001b[0m\u001b[0;34m\u001b[0m\u001b[0m\n\u001b[1;32m    283\u001b[0m             \u001b[0mannotation_metadata\u001b[0m \u001b[0;34m=\u001b[0m \u001b[0mAnnotationMetadata\u001b[0m\u001b[0;34m(\u001b[0m\u001b[0;34m)\u001b[0m\u001b[0;34m\u001b[0m\u001b[0m\n\u001b[0;32m--> 284\u001b[0;31m         \u001b[0mself\u001b[0m\u001b[0;34m.\u001b[0m\u001b[0mdata\u001b[0m \u001b[0;34m=\u001b[0m \u001b[0mself\u001b[0m\u001b[0;34m.\u001b[0m\u001b[0m__parse_data__\u001b[0m\u001b[0;34m(\u001b[0m\u001b[0mdata\u001b[0m\u001b[0;34m)\u001b[0m\u001b[0;34m\u001b[0m\u001b[0m\n\u001b[0m\u001b[1;32m    285\u001b[0m         \u001b[0mself\u001b[0m\u001b[0;34m.\u001b[0m\u001b[0mannotation_metadata\u001b[0m \u001b[0;34m=\u001b[0m \u001b[0mAnnotationMetadata\u001b[0m\u001b[0;34m(\u001b[0m\u001b[0;34m**\u001b[0m\u001b[0mannotation_metadata\u001b[0m\u001b[0;34m)\u001b[0m\u001b[0;34m\u001b[0m\u001b[0m\n\u001b[1;32m    286\u001b[0m \u001b[0;34m\u001b[0m\u001b[0m\n",
        "\u001b[0;32m/Users/uri/NYU/Dissertation/jams/pyjams.py\u001b[0m in \u001b[0;36m__parse_data__\u001b[0;34m(self, data)\u001b[0m\n\u001b[1;32m    300\u001b[0m             \u001b[0mCollection\u001b[0m \u001b[0mof\u001b[0m \u001b[0m_DefaultTypes\u001b[0m\u001b[0;34m.\u001b[0m\u001b[0;34m\u001b[0m\u001b[0m\n\u001b[1;32m    301\u001b[0m         \"\"\"\n\u001b[0;32m--> 302\u001b[0;31m         \u001b[0;32mreturn\u001b[0m \u001b[0;34m[\u001b[0m\u001b[0mself\u001b[0m\u001b[0;34m.\u001b[0m\u001b[0m_DefaultType\u001b[0m\u001b[0;34m(\u001b[0m\u001b[0;34m**\u001b[0m\u001b[0mobj\u001b[0m\u001b[0;34m)\u001b[0m \u001b[0;32mfor\u001b[0m \u001b[0mobj\u001b[0m \u001b[0;32min\u001b[0m \u001b[0mdata\u001b[0m\u001b[0;34m]\u001b[0m\u001b[0;34m\u001b[0m\u001b[0m\n\u001b[0m\u001b[1;32m    303\u001b[0m \u001b[0;34m\u001b[0m\u001b[0m\n\u001b[1;32m    304\u001b[0m     \u001b[0;32mdef\u001b[0m \u001b[0mcreate_datapoint\u001b[0m\u001b[0;34m(\u001b[0m\u001b[0mself\u001b[0m\u001b[0;34m)\u001b[0m\u001b[0;34m:\u001b[0m\u001b[0;34m\u001b[0m\u001b[0m\n",
        "\u001b[0;31mTypeError\u001b[0m: __init__() got an unexpected keyword argument 'level'"
       ]
      }
     ],
     "prompt_number": 1
    },
    {
     "cell_type": "code",
     "collapsed": false,
     "input": [
      "import json\n",
      "import glob\n",
      "\n",
      "jam_files = glob.glob(\"/Users/uri/datasets/Segments/annotations/*.jams\")\n",
      "for jam_file in jam_files:\n",
      "    f = open(jam_file, \"r\")\n",
      "    gt = json.load(f)\n",
      "    for annotation in gt[\"sections\"]:\n",
      "        for data in annotation[\"data\"]:\n",
      "            data[\"label\"][\"context\"] = data[\"level\"]\n",
      "            data.pop(\"level\", None)\n",
      "    f.close()\n",
      "    \n",
      "    f = open(jam_file, \"w\")\n",
      "    json.dump(gt, f, indent=2)\n",
      "    f.close()"
     ],
     "language": "python",
     "metadata": {},
     "outputs": [],
     "prompt_number": 2
    },
    {
     "cell_type": "code",
     "collapsed": false,
     "input": [
      "import jams\n",
      "jam = jams.load(\"test.jams\")"
     ],
     "language": "python",
     "metadata": {},
     "outputs": [],
     "prompt_number": 1
    },
    {
     "cell_type": "code",
     "collapsed": false,
     "input": [
      "import essentia\n",
      "essentia.array??\n"
     ],
     "language": "python",
     "metadata": {},
     "outputs": [],
     "prompt_number": 5
    },
    {
     "cell_type": "code",
     "collapsed": false,
     "input": [
      "import json\n",
      "import glob\n",
      "import jams\n",
      "\n",
      "jam = jams.load(\"/Users/uri/datasets/Segments/annotations/Epiphyte_0070_dipitlow.jams\")\n",
      "beat_data = jam.beats[0].data\n",
      "beat_data[3].time.value"
     ],
     "language": "python",
     "metadata": {},
     "outputs": [
      {
       "metadata": {},
       "output_type": "pyout",
       "prompt_number": 8,
       "text": [
        "4.986138"
       ]
      }
     ],
     "prompt_number": 8
    },
    {
     "cell_type": "code",
     "collapsed": false,
     "input": [
      "import mir_eval\n",
      "times, labels = mir_eval.input_output.load_jams_range(\"/Users/uri/datasets/Segments/annotations/SALAMI_2.jams\", \"sections\", context=\"small_scale\")\n",
      "times2, labels2 = mir_eval.input_output.load_annotation(\"../algorithms/olda/code/out.lab\")\n",
      "\n",
      "p, r, f = mir_eval.segment.boundary_detection(times, times2, window=3)\n",
      "\n",
      "print p,r,f"
     ],
     "language": "python",
     "metadata": {},
     "outputs": [
      {
       "output_type": "stream",
       "stream": "stdout",
       "text": [
        "processing  /Users/uri/datasets/Segments/annotations/SALAMI_2.jams\n",
        "1.0 0.315789473684 0.48\n"
       ]
      }
     ],
     "prompt_number": 29
    },
    {
     "cell_type": "code",
     "collapsed": false,
     "input": [
      "times, labels"
     ],
     "language": "python",
     "metadata": {},
     "outputs": [
      {
       "metadata": {},
       "output_type": "pyout",
       "prompt_number": 6,
       "text": [
        "(array([  0.00000000e+00,   2.23492063e-01,   1.35291610e+01,\n",
        "         2.68090249e+01,   3.99789116e+01,   5.31622222e+01,\n",
        "         6.63397279e+01,   7.95885261e+01,   9.28204535e+01,\n",
        "         1.06015397e+02,   1.19207778e+02,   1.32316916e+02,\n",
        "         1.45625374e+02,   1.58831224e+02,   1.72036009e+02,\n",
        "         1.85254580e+02,   1.98422313e+02,   2.11613810e+02,\n",
        "         2.24810567e+02,   2.38048889e+02,   2.51203651e+02,\n",
        "         2.64395896e+02,   2.77775170e+02,   2.90827370e+02,\n",
        "         3.14269342e+02]),\n",
        " ['Silence',\n",
        "  'a',\n",
        "  \"a'\",\n",
        "  'b',\n",
        "  \"b'\",\n",
        "  'c',\n",
        "  'c',\n",
        "  'd',\n",
        "  \"b'\",\n",
        "  \"b'\",\n",
        "  'c',\n",
        "  'c',\n",
        "  'd',\n",
        "  'e',\n",
        "  'f',\n",
        "  'g',\n",
        "  \"b'\",\n",
        "  \"b'\",\n",
        "  'c',\n",
        "  'c',\n",
        "  'd',\n",
        "  'e',\n",
        "  'f',\n",
        "  'g',\n",
        "  'End'])"
       ]
      }
     ],
     "prompt_number": 6
    },
    {
     "cell_type": "code",
     "collapsed": false,
     "input": [
      "import os\n",
      "os.path.isfile(\"../out.json\")"
     ],
     "language": "python",
     "metadata": {},
     "outputs": [
      {
       "metadata": {},
       "output_type": "pyout",
       "prompt_number": 31,
       "text": [
        "True"
       ]
      }
     ],
     "prompt_number": 31
    },
    {
     "cell_type": "code",
     "collapsed": false,
     "input": [
      "import datetime\n",
      "datetime.datetime.today().strftime(\"%Y/%m/%d %H:%M:%S\")"
     ],
     "language": "python",
     "metadata": {},
     "outputs": [
      {
       "metadata": {},
       "output_type": "pyout",
       "prompt_number": 44,
       "text": [
        "'2014/03/04 15:24:14'"
       ]
      }
     ],
     "prompt_number": 44
    },
    {
     "cell_type": "code",
     "collapsed": false,
     "input": [],
     "language": "python",
     "metadata": {},
     "outputs": []
    }
   ],
   "metadata": {}
  }
 ]
}