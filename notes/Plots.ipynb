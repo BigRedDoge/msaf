{
 "metadata": {
  "name": "",
  "signature": "sha256:43bbac6ea4d0e2b3a82a020918acb5f1acff36cb741ff0d7a980f01f84bbe0bf"
 },
 "nbformat": 3,
 "nbformat_minor": 0,
 "worksheets": [
  {
   "cells": [
    {
     "cell_type": "code",
     "collapsed": false,
     "input": [
      "# Plotting some stuff for my Dissertation\n",
      "\n",
      "import sys\n",
      "sys.path.append(\"..\")\n",
      "import plotting\n",
      "import msaf_io as MSAF\n",
      "\n",
      "reload(EV)\n",
      "reload(MSAF)\n",
      "\n",
      "est_file = \"/Users/uri/datasets/Segments/estimations/Isophonics_05_-_And_I_Love_Her.json\"\n",
      "est_file = \"/Users/uri/datasets/Segments/estimations/Isophonics_01_-_Come_Together.json\"\n",
      "est_file = \"/Users/uri/datasets/Segments/estimations/Isophonics_06_-_I_Am_The_Walrus.json\"\n",
      "annot_beats = False\n",
      "algo_ids = [\"cnmf3\", \"serra\", \"levy\", \"siplca\", \"foote\", \"olda\"]\n",
      "all_boundaries = MSAF.get_all_est_boundaries(est_file, annot_beats, algo_ids)\n",
      "plotting.plot_boundaries(all_boundaries, est_file, algo_ids)"
     ],
     "language": "python",
     "metadata": {},
     "outputs": [
      {
       "ename": "NameError",
       "evalue": "global name 'MSAF' is not defined",
       "output_type": "pyerr",
       "traceback": [
        "\u001b[0;31m---------------------------------------------------------------------------\u001b[0m\n\u001b[0;31mNameError\u001b[0m                                 Traceback (most recent call last)",
        "\u001b[0;32m<ipython-input-37-929746d3f325>\u001b[0m in \u001b[0;36m<module>\u001b[0;34m()\u001b[0m\n\u001b[1;32m     14\u001b[0m \u001b[0mannot_beats\u001b[0m \u001b[0;34m=\u001b[0m \u001b[0mFalse\u001b[0m\u001b[0;34m\u001b[0m\u001b[0m\n\u001b[1;32m     15\u001b[0m \u001b[0malgo_ids\u001b[0m \u001b[0;34m=\u001b[0m \u001b[0;34m[\u001b[0m\u001b[0;34m\"cnmf3\"\u001b[0m\u001b[0;34m,\u001b[0m \u001b[0;34m\"serra\"\u001b[0m\u001b[0;34m,\u001b[0m \u001b[0;34m\"levy\"\u001b[0m\u001b[0;34m,\u001b[0m \u001b[0;34m\"siplca\"\u001b[0m\u001b[0;34m,\u001b[0m \u001b[0;34m\"foote\"\u001b[0m\u001b[0;34m,\u001b[0m \u001b[0;34m\"olda\"\u001b[0m\u001b[0;34m]\u001b[0m\u001b[0;34m\u001b[0m\u001b[0m\n\u001b[0;32m---> 16\u001b[0;31m \u001b[0mall_boundaries\u001b[0m \u001b[0;34m=\u001b[0m \u001b[0mMSAF\u001b[0m\u001b[0;34m.\u001b[0m\u001b[0mget_all_est_boundaries\u001b[0m\u001b[0;34m(\u001b[0m\u001b[0mest_file\u001b[0m\u001b[0;34m,\u001b[0m \u001b[0mannot_beats\u001b[0m\u001b[0;34m,\u001b[0m \u001b[0malgo_ids\u001b[0m\u001b[0;34m)\u001b[0m\u001b[0;34m\u001b[0m\u001b[0m\n\u001b[0m\u001b[1;32m     17\u001b[0m \u001b[0mplotting\u001b[0m\u001b[0;34m.\u001b[0m\u001b[0mplot_boundaries\u001b[0m\u001b[0;34m(\u001b[0m\u001b[0mall_boundaries\u001b[0m\u001b[0;34m,\u001b[0m \u001b[0mest_file\u001b[0m\u001b[0;34m,\u001b[0m \u001b[0malgo_ids\u001b[0m\u001b[0;34m)\u001b[0m\u001b[0;34m\u001b[0m\u001b[0m\n",
        "\u001b[0;32m/Users/uri/NYU/Dissertation/MSAF/msaf_io.py\u001b[0m in \u001b[0;36mget_all_est_boundaries\u001b[0;34m(est_file, annot_beats, algo_ids)\u001b[0m\n\u001b[1;32m    350\u001b[0m     \u001b[0mds_prefix\u001b[0m \u001b[0;34m=\u001b[0m \u001b[0mos\u001b[0m\u001b[0;34m.\u001b[0m\u001b[0mpath\u001b[0m\u001b[0;34m.\u001b[0m\u001b[0mbasename\u001b[0m\u001b[0;34m(\u001b[0m\u001b[0mest_file\u001b[0m\u001b[0;34m)\u001b[0m\u001b[0;34m.\u001b[0m\u001b[0msplit\u001b[0m\u001b[0;34m(\u001b[0m\u001b[0;34m\"_\"\u001b[0m\u001b[0;34m)\u001b[0m\u001b[0;34m[\u001b[0m\u001b[0;36m0\u001b[0m\u001b[0;34m]\u001b[0m\u001b[0;34m\u001b[0m\u001b[0m\n\u001b[1;32m    351\u001b[0m     ann_inter, ann_labels = jams2.converters.load_jams_range(jam_file,\n\u001b[0;32m--> 352\u001b[0;31m                         \"sections\", context=MSAF.prefix_dict[ds_prefix])\n\u001b[0m\u001b[1;32m    353\u001b[0m     \u001b[0mann_times\u001b[0m \u001b[0;34m=\u001b[0m \u001b[0mintervals_to_times\u001b[0m\u001b[0;34m(\u001b[0m\u001b[0mann_inter\u001b[0m\u001b[0;34m)\u001b[0m\u001b[0;34m\u001b[0m\u001b[0m\n\u001b[1;32m    354\u001b[0m     \u001b[0mall_boundaries\u001b[0m\u001b[0;34m.\u001b[0m\u001b[0mappend\u001b[0m\u001b[0;34m(\u001b[0m\u001b[0mann_times\u001b[0m\u001b[0;34m)\u001b[0m\u001b[0;34m\u001b[0m\u001b[0m\n",
        "\u001b[0;31mNameError\u001b[0m: global name 'MSAF' is not defined"
       ]
      }
     ],
     "prompt_number": 37
    }
   ],
   "metadata": {}
  }
 ]
}