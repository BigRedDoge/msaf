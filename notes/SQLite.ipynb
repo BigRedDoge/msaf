{
 "metadata": {
  "name": ""
 },
 "nbformat": 3,
 "nbformat_minor": 0,
 "worksheets": [
  {
   "cells": [
    {
     "cell_type": "code",
     "collapsed": false,
     "input": [
      "import sqlite3\n",
      "conn = sqlite3.connect(\"../results/results.sqlite\")\n",
      "c = conn.cursor()\n",
      "params = (.2, .6)\n",
      "c.execute('SELECT * FROM foote_bounds WHERE F05=? AND F3=?', params)\n",
      "print c.fetchall()\n",
      "conn.close()"
     ],
     "language": "python",
     "metadata": {},
     "outputs": [
      {
       "output_type": "stream",
       "stream": "stdout",
       "text": [
        "[]\n"
       ]
      }
     ],
     "prompt_number": 5
    },
    {
     "cell_type": "code",
     "collapsed": false,
     "input": [
      "import sqlite3\n",
      "conn = sqlite3.connect(\"../results/results.sqlite\")\n",
      "c = conn.cursor()\n",
      "trim = True\n",
      "c.execute('SELECT * FROM mma_bounds WHERE trim=?', (trim,))\n",
      "mma_results = np.asarray(c.fetchall(), dtype=[('track_id', '<U400'), ('F05', float), \n",
      "                    ('P05', float), ('R05', float), ('F3', float),\n",
      "                    ('P3', float), ('R3', float), ('D', float),\n",
      "                    ('annot_beat', int), ('feature', 'S10'),\n",
      "                    ('add_params', 'S10'), ('trim', int)])\n",
      "algo_ids = [\"serra\", \"levy\", \"foote\", \"siplca\", \"olda\"]\n",
      "feat_dict = {\n",
      "    'serra' :   'mix',\n",
      "    'levy'  :   'hpcp',\n",
      "    'foote' :   'hpcp',\n",
      "    'siplca':   '',\n",
      "    'olda'  :   ''\n",
      "}\n",
      "for i, algo_id in enumerate(algo_ids):\n",
      "    c.execute('SELECT * FROM %s_bounds WHERE feature=? AND trim=?' % algo_id, (feat_dict[algo_id],trim))\n",
      "    tmp_results = np.asarray(c.fetchall(), dtype=[('track_id', '<U400'), ('F05', float), \n",
      "                    ('P05', float), ('R05', float), ('F3', float),\n",
      "                    ('P3', float), ('R3', float), ('D', float),\n",
      "                    ('annot_beat', int), ('feature', 'S10'),\n",
      "                    ('add_params', 'S10'), ('trim', int)])\n",
      "    print algo_id, len(tmp_results),i\n",
      "    if i == 0:\n",
      "        mgp_results = tmp_results\n",
      "    else:\n",
      "        mgp_results['F05'] = np.mean(np.vstack((mgp_results['F05'], tmp_results['F05'])), axis=0)\n",
      "        mgp_results['F3'] = np.mean(np.vstack((mgp_results['F3'], tmp_results['F3'])), axis=0)\n",
      "        mgp_results['D'] = np.mean(np.vstack((mgp_results['D'], tmp_results['D'])), axis=0)\n",
      "\n",
      "# Close SQL connection\n",
      "conn.close()\n",
      "\n",
      "# Sort by track id\n",
      "mma_results = np.sort(mma_results, order='track_id')\n",
      "mgp_results = np.sort(mgp_results, order='track_id')\n",
      "\n",
      "def linear_regression(x, y, title=''):\n",
      "    A = array([ x, ones(len(x))])\n",
      "    print A.shape, y.shape\n",
      "    w = np.linalg.lstsq(A.T,y)[0] # obtaining the parameters\n",
      "    line = w[0]*x + w[1] # regression line\n",
      "    \n",
      "    # Plot\n",
      "    plt.scatter(x, y, s=1)\n",
      "    plt.plot(x, line, 'b-')\n",
      "    plt.title(title)\n",
      "    plt.show()\n",
      "    \n",
      "    # Compute the r2 goodness of fit test\n",
      "    ssres = np.sum( (y - line)**2 )        # The residual sum\n",
      "    sstot = np.sum( (y - np.mean(x))**2 )  # The null hypothesis\n",
      "    r2 = 1 - ssres/float(sstot)\n",
      "    print \"R2 of %s is: %.2f\" % (title, r2*100)\n",
      "    \n",
      "\n",
      "# Plot with linear regression\n",
      "print len(mma_results[\"F05\"])\n",
      "linear_regression(mma_results['F05'], mgp_results['F05'], 'F-measure 0.5 sec')\n",
      "linear_regression(mma_results['F3'], mgp_results['F3'], 'F-measure 3 sec')\n",
      "linear_regression(mma_results['D'], mgp_results['D'], 'Information Gain')"
     ],
     "language": "python",
     "metadata": {},
     "outputs": [
      {
       "ename": "ValueError",
       "evalue": "all the input array dimensions except for the concatenation axis must match exactly",
       "output_type": "pyerr",
       "traceback": [
        "\u001b[0;31m---------------------------------------------------------------------------\u001b[0m\n\u001b[0;31mValueError\u001b[0m                                Traceback (most recent call last)",
        "\u001b[0;32m<ipython-input-15-d51b1923a0e6>\u001b[0m in \u001b[0;36m<module>\u001b[0;34m()\u001b[0m\n\u001b[1;32m     28\u001b[0m         \u001b[0mmgp_results\u001b[0m \u001b[0;34m=\u001b[0m \u001b[0mtmp_results\u001b[0m\u001b[0;34m\u001b[0m\u001b[0m\n\u001b[1;32m     29\u001b[0m     \u001b[0;32melse\u001b[0m\u001b[0;34m:\u001b[0m\u001b[0;34m\u001b[0m\u001b[0m\n\u001b[0;32m---> 30\u001b[0;31m         \u001b[0mmgp_results\u001b[0m\u001b[0;34m[\u001b[0m\u001b[0;34m'F05'\u001b[0m\u001b[0;34m]\u001b[0m \u001b[0;34m=\u001b[0m \u001b[0mnp\u001b[0m\u001b[0;34m.\u001b[0m\u001b[0mmean\u001b[0m\u001b[0;34m(\u001b[0m\u001b[0mnp\u001b[0m\u001b[0;34m.\u001b[0m\u001b[0mvstack\u001b[0m\u001b[0;34m(\u001b[0m\u001b[0;34m(\u001b[0m\u001b[0mmgp_results\u001b[0m\u001b[0;34m[\u001b[0m\u001b[0;34m'F05'\u001b[0m\u001b[0;34m]\u001b[0m\u001b[0;34m,\u001b[0m \u001b[0mtmp_results\u001b[0m\u001b[0;34m[\u001b[0m\u001b[0;34m'F05'\u001b[0m\u001b[0;34m]\u001b[0m\u001b[0;34m)\u001b[0m\u001b[0;34m)\u001b[0m\u001b[0;34m,\u001b[0m \u001b[0maxis\u001b[0m\u001b[0;34m=\u001b[0m\u001b[0;36m0\u001b[0m\u001b[0;34m)\u001b[0m\u001b[0;34m\u001b[0m\u001b[0m\n\u001b[0m\u001b[1;32m     31\u001b[0m         \u001b[0mmgp_results\u001b[0m\u001b[0;34m[\u001b[0m\u001b[0;34m'F3'\u001b[0m\u001b[0;34m]\u001b[0m \u001b[0;34m=\u001b[0m \u001b[0mnp\u001b[0m\u001b[0;34m.\u001b[0m\u001b[0mmean\u001b[0m\u001b[0;34m(\u001b[0m\u001b[0mnp\u001b[0m\u001b[0;34m.\u001b[0m\u001b[0mvstack\u001b[0m\u001b[0;34m(\u001b[0m\u001b[0;34m(\u001b[0m\u001b[0mmgp_results\u001b[0m\u001b[0;34m[\u001b[0m\u001b[0;34m'F3'\u001b[0m\u001b[0;34m]\u001b[0m\u001b[0;34m,\u001b[0m \u001b[0mtmp_results\u001b[0m\u001b[0;34m[\u001b[0m\u001b[0;34m'F3'\u001b[0m\u001b[0;34m]\u001b[0m\u001b[0;34m)\u001b[0m\u001b[0;34m)\u001b[0m\u001b[0;34m,\u001b[0m \u001b[0maxis\u001b[0m\u001b[0;34m=\u001b[0m\u001b[0;36m0\u001b[0m\u001b[0;34m)\u001b[0m\u001b[0;34m\u001b[0m\u001b[0m\n\u001b[1;32m     32\u001b[0m         \u001b[0mmgp_results\u001b[0m\u001b[0;34m[\u001b[0m\u001b[0;34m'D'\u001b[0m\u001b[0;34m]\u001b[0m \u001b[0;34m=\u001b[0m \u001b[0mnp\u001b[0m\u001b[0;34m.\u001b[0m\u001b[0mmean\u001b[0m\u001b[0;34m(\u001b[0m\u001b[0mnp\u001b[0m\u001b[0;34m.\u001b[0m\u001b[0mvstack\u001b[0m\u001b[0;34m(\u001b[0m\u001b[0;34m(\u001b[0m\u001b[0mmgp_results\u001b[0m\u001b[0;34m[\u001b[0m\u001b[0;34m'D'\u001b[0m\u001b[0;34m]\u001b[0m\u001b[0;34m,\u001b[0m \u001b[0mtmp_results\u001b[0m\u001b[0;34m[\u001b[0m\u001b[0;34m'D'\u001b[0m\u001b[0;34m]\u001b[0m\u001b[0;34m)\u001b[0m\u001b[0;34m)\u001b[0m\u001b[0;34m,\u001b[0m \u001b[0maxis\u001b[0m\u001b[0;34m=\u001b[0m\u001b[0;36m0\u001b[0m\u001b[0;34m)\u001b[0m\u001b[0;34m\u001b[0m\u001b[0m\n",
        "\u001b[0;32m/Library/Python/2.7/site-packages/numpy/core/shape_base.pyc\u001b[0m in \u001b[0;36mvstack\u001b[0;34m(tup)\u001b[0m\n\u001b[1;32m    226\u001b[0m \u001b[0;34m\u001b[0m\u001b[0m\n\u001b[1;32m    227\u001b[0m     \"\"\"\n\u001b[0;32m--> 228\u001b[0;31m     \u001b[0;32mreturn\u001b[0m \u001b[0m_nx\u001b[0m\u001b[0;34m.\u001b[0m\u001b[0mconcatenate\u001b[0m\u001b[0;34m(\u001b[0m\u001b[0;34m[\u001b[0m\u001b[0matleast_2d\u001b[0m\u001b[0;34m(\u001b[0m\u001b[0m_m\u001b[0m\u001b[0;34m)\u001b[0m \u001b[0;32mfor\u001b[0m \u001b[0m_m\u001b[0m \u001b[0;32min\u001b[0m \u001b[0mtup\u001b[0m\u001b[0;34m]\u001b[0m\u001b[0;34m,\u001b[0m \u001b[0;36m0\u001b[0m\u001b[0;34m)\u001b[0m\u001b[0;34m\u001b[0m\u001b[0m\n\u001b[0m\u001b[1;32m    229\u001b[0m \u001b[0;34m\u001b[0m\u001b[0m\n\u001b[1;32m    230\u001b[0m \u001b[0;32mdef\u001b[0m \u001b[0mhstack\u001b[0m\u001b[0;34m(\u001b[0m\u001b[0mtup\u001b[0m\u001b[0;34m)\u001b[0m\u001b[0;34m:\u001b[0m\u001b[0;34m\u001b[0m\u001b[0m\n",
        "\u001b[0;31mValueError\u001b[0m: all the input array dimensions except for the concatenation axis must match exactly"
       ]
      },
      {
       "output_type": "stream",
       "stream": "stdout",
       "text": [
        "serra 2156 0\n",
        "levy 2154 1\n"
       ]
      }
     ],
     "prompt_number": 15
    },
    {
     "cell_type": "code",
     "collapsed": false,
     "input": [
      "# Clean up mma table (there are SALAMI tracks without ground truth)\n",
      "import sqlite3\n",
      "conn = sqlite3.connect(\"../results/results.sqlite\")\n",
      "c = conn.cursor()\n",
      "feat_dict = {\n",
      "    'serra' :   'mix',\n",
      "    'levy'  :   'mfcc',\n",
      "    'foote' :   'hpcp',\n",
      "    'siplca':   '',\n",
      "    'olda'  :   ''\n",
      "}\n",
      "tracks = []\n",
      "trim = True\n",
      "for algo_id in [\"serra\", \"levy\"]:\n",
      "    c.execute('SELECT track_id FROM %s_bounds WHERE feature=? AND trim=?' % algo_id, (feat_dict[algo_id],trim))\n",
      "    tracks.append(c.fetchall())\n",
      "serra = set(tracks[0])\n",
      "levy = set(tracks[1])\n",
      "print serra ^ levy\n",
      "\n",
      "c.execute('SELECT track_id FROM mma_bounds')\n",
      "mma = set(c.fetchall())\n",
      "to_delete = mma ^ serra\n",
      "for track in to_delete:\n",
      "    c.execute('DELETE FROM mma_bounds WHERE track_id=?', track)\n",
      "    print track\n",
      "conn.commit()\n",
      "conn.close()"
     ],
     "language": "python",
     "metadata": {},
     "outputs": [
      {
       "output_type": "stream",
       "stream": "stdout",
       "text": [
        "set([(u'SALAMI_724.json',), (u'SALAMI_710.json',)])\n"
       ]
      }
     ],
     "prompt_number": 17
    },
    {
     "cell_type": "code",
     "collapsed": false,
     "input": [],
     "language": "python",
     "metadata": {},
     "outputs": []
    }
   ],
   "metadata": {}
  }
 ]
}