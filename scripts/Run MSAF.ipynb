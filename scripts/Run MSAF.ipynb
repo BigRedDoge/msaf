{
 "metadata": {
  "name": "",
  "signature": "sha256:77f3642cb956fbf83cdc289755b9132ea0bb922d48aa5e8d4a36c23c86e7a95e"
 },
 "nbformat": 3,
 "nbformat_minor": 0,
 "worksheets": [
  {
   "cells": [
    {
     "cell_type": "markdown",
     "metadata": {},
     "source": [
      "#Running MSAF#\n",
      "\n",
      "We show the main MSAF functionality here, by running it on various toy examples and situations."
     ]
    },
    {
     "cell_type": "code",
     "collapsed": false,
     "input": [
      "%matplotlib inline\n",
      "\n",
      "import msaf\n",
      "import librosa"
     ],
     "language": "python",
     "metadata": {},
     "outputs": [],
     "prompt_number": 1
    },
    {
     "cell_type": "code",
     "collapsed": false,
     "input": [
      "print librosa.__version__\n",
      "librosa.__path__\n",
      "librosa."
     ],
     "language": "python",
     "metadata": {},
     "outputs": [
      {
       "output_type": "stream",
       "stream": "stdout",
       "text": [
        "0.4.0rc1\n"
       ]
      },
      {
       "metadata": {},
       "output_type": "pyout",
       "prompt_number": 2,
       "text": [
        "['/Users/uriadmin/NYU/Dissertation/librosa']"
       ]
      }
     ],
     "prompt_number": 2
    },
    {
     "cell_type": "code",
     "collapsed": false,
     "input": [],
     "language": "python",
     "metadata": {},
     "outputs": []
    }
   ],
   "metadata": {}
  }
 ]
}